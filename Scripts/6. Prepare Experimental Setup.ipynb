{
 "cells": [
  {
   "cell_type": "code",
   "execution_count": null,
   "metadata": {},
   "outputs": [],
   "source": [
    "import os\n",
    "from tqdm import tqdm\n",
    "import shutil"
   ]
  },
  {
   "cell_type": "code",
   "execution_count": 38,
   "metadata": {},
   "outputs": [],
   "source": [
    "os.makedirs(\"experimental_data/gold\", exist_ok=True)\n",
    "os.makedirs(\"experimental_data/silver_copy\", exist_ok=True)\n",
    "os.makedirs(\"experimental_data/silver_parallel\", exist_ok=True)"
   ]
  },
  {
   "cell_type": "code",
   "execution_count": 51,
   "metadata": {},
   "outputs": [],
   "source": [
    "lang_pair = \"fin_grc\""
   ]
  },
  {
   "cell_type": "markdown",
   "metadata": {},
   "source": [
    "## 1. Gold"
   ]
  },
  {
   "cell_type": "code",
   "execution_count": 52,
   "metadata": {},
   "outputs": [],
   "source": [
    "with open(f\"data/{lang_pair}/{lang_pair}.txt\", \"r\") as f:\n",
    "    gold_sentences = f.read()\n",
    "with open(f\"data/{lang_pair}/parallel.txt\", \"r\") as f:\n",
    "    parallel_sentences = f.read()"
   ]
  },
  {
   "cell_type": "code",
   "execution_count": 53,
   "metadata": {},
   "outputs": [
    {
     "name": "stderr",
     "output_type": "stream",
     "text": [
      "0it [00:00, ?it/s]\n"
     ]
    }
   ],
   "source": [
    "existing_sentences = {x.split(\"|||\")[0].strip().lower().replace(\" \",\"\") for x in gold_sentences.splitlines()}\n",
    "final_content = gold_sentences.strip()+\"\\n\"\n",
    "ct = 0\n",
    "skipping = 0\n",
    "for p in tqdm(parallel_sentences.splitlines()):\n",
    "    if p.split(\"|||\")[0].strip().lower().replace(\" \",\"\") in existing_sentences:\n",
    "        ct+=1\n",
    "        continue\n",
    "    if \"|||\" in p and p.split(\"|||\")[0].strip()!=\"\" and p.split(\"|||\")[1].strip()!=\"\":\n",
    "        final_content += p+\"\\n\"\n",
    "    else:\n",
    "        skipping+=1"
   ]
  },
  {
   "cell_type": "code",
   "execution_count": 54,
   "metadata": {},
   "outputs": [
    {
     "data": {
      "text/plain": [
       "0"
      ]
     },
     "execution_count": 54,
     "metadata": {},
     "output_type": "execute_result"
    }
   ],
   "source": [
    "skipping"
   ]
  },
  {
   "cell_type": "code",
   "execution_count": 55,
   "metadata": {},
   "outputs": [
    {
     "data": {
      "text/plain": [
       "(7909, 0, 7909, 0)"
      ]
     },
     "execution_count": 55,
     "metadata": {},
     "output_type": "execute_result"
    }
   ],
   "source": [
    "len(final_content.splitlines()), ct, len(gold_sentences.splitlines()), len(parallel_sentences.splitlines())"
   ]
  },
  {
   "cell_type": "code",
   "execution_count": 56,
   "metadata": {},
   "outputs": [
    {
     "data": {
      "text/plain": [
       "'experimental_data/gold/fin_grc/gold.txt'"
      ]
     },
     "execution_count": 56,
     "metadata": {},
     "output_type": "execute_result"
    }
   ],
   "source": [
    "os.makedirs(f\"experimental_data/gold/{lang_pair}\", exist_ok=True)\n",
    "with open(f\"experimental_data/gold/{lang_pair}/parallel.txt\", \"w\") as f:\n",
    "    f.write(final_content)\n",
    "shutil.copyfile(f\"data/{lang_pair}/gold.txt\", f\"experimental_data/gold/{lang_pair}/gold.txt\")"
   ]
  },
  {
   "cell_type": "markdown",
   "metadata": {},
   "source": [
    "## 2. Silver Copy"
   ]
  },
  {
   "cell_type": "code",
   "execution_count": 57,
   "metadata": {},
   "outputs": [],
   "source": [
    "with open(f\"silver_data_from_gold/{lang_pair}/{lang_pair}.txt\", \"r\") as f:\n",
    "    gold_sentences_copy = f.read()"
   ]
  },
  {
   "cell_type": "code",
   "execution_count": 58,
   "metadata": {},
   "outputs": [
    {
     "name": "stderr",
     "output_type": "stream",
     "text": [
      "0it [00:00, ?it/s]\n"
     ]
    }
   ],
   "source": [
    "existing_sentences_copy = {x.split(\"|||\")[0].strip().lower().replace(\" \",\"\") for x in gold_sentences_copy.splitlines()}\n",
    "final_content_copy = gold_sentences_copy.strip()+\"\\n\"\n",
    "ct = 0\n",
    "for p in tqdm(parallel_sentences.splitlines()):\n",
    "    if p.split(\"|||\")[0].strip().lower().replace(\" \",\"\") in existing_sentences_copy:\n",
    "        ct+=1\n",
    "        continue\n",
    "    if \"|||\" in p and p.split(\"|||\")[0].strip()!=\"\" and p.split(\"|||\")[1].strip()!=\"\":\n",
    "        final_content_copy += p+\"\\n\""
   ]
  },
  {
   "cell_type": "code",
   "execution_count": 59,
   "metadata": {},
   "outputs": [
    {
     "data": {
      "text/plain": [
       "(1668, 0, 1668, 0)"
      ]
     },
     "execution_count": 59,
     "metadata": {},
     "output_type": "execute_result"
    }
   ],
   "source": [
    "len(final_content_copy.splitlines()), ct, len(gold_sentences_copy.splitlines()), len(parallel_sentences.splitlines())"
   ]
  },
  {
   "cell_type": "code",
   "execution_count": 60,
   "metadata": {},
   "outputs": [
    {
     "data": {
      "text/plain": [
       "'experimental_data/silver_copy/fin_grc/gold.txt'"
      ]
     },
     "execution_count": 60,
     "metadata": {},
     "output_type": "execute_result"
    }
   ],
   "source": [
    "os.makedirs(f\"experimental_data/silver_copy/{lang_pair}\", exist_ok=True)\n",
    "with open(f\"experimental_data/silver_copy/{lang_pair}/parallel.txt\", \"w\") as f:\n",
    "    f.write(final_content_copy)\n",
    "shutil.copyfile(f\"silver_data_from_gold/{lang_pair}/gold.txt\", f\"experimental_data/silver_copy/{lang_pair}/gold.txt\")"
   ]
  },
  {
   "cell_type": "markdown",
   "metadata": {},
   "source": [
    "## 3. Silver Parallel"
   ]
  },
  {
   "cell_type": "code",
   "execution_count": 25,
   "metadata": {},
   "outputs": [],
   "source": [
    "with open(f\"silver_data_from_parallel/{lang_pair}/{lang_pair}.txt\", \"r\") as f:\n",
    "    gold_sentences_parallel = f.read()"
   ]
  },
  {
   "cell_type": "code",
   "execution_count": 26,
   "metadata": {},
   "outputs": [
    {
     "name": "stderr",
     "output_type": "stream",
     "text": [
      "100%|██████████| 39101/39101 [00:00<00:00, 177945.27it/s]\n"
     ]
    }
   ],
   "source": [
    "existing_sentences_parallel = {x.split(\"|||\")[0].strip().lower().replace(\" \",\"\") for x in gold_sentences_parallel.splitlines()}\n",
    "final_content_parallel = gold_sentences_parallel.strip()+\"\\n\"\n",
    "ct = 0\n",
    "for p in tqdm(parallel_sentences.splitlines()):\n",
    "    if p.split(\"|||\")[0].strip().lower().replace(\" \",\"\") in existing_sentences_parallel:\n",
    "        ct+=1\n",
    "        continue\n",
    "    if \"|||\" in p and p.split(\"|||\")[0].strip()!=\"\" and p.split(\"|||\")[1].strip()!=\"\":\n",
    "        final_content_parallel += p+\"\\n\""
   ]
  },
  {
   "cell_type": "code",
   "execution_count": 27,
   "metadata": {},
   "outputs": [
    {
     "data": {
      "text/plain": [
       "(39083, 443, 439, 39101)"
      ]
     },
     "execution_count": 27,
     "metadata": {},
     "output_type": "execute_result"
    }
   ],
   "source": [
    "len(final_content_parallel.splitlines()), ct, len(gold_sentences_parallel.splitlines()), len(parallel_sentences.splitlines())"
   ]
  },
  {
   "cell_type": "code",
   "execution_count": 28,
   "metadata": {},
   "outputs": [
    {
     "data": {
      "text/plain": [
       "'experimental_data/silver_parallel/eng_ron/gold.txt'"
      ]
     },
     "execution_count": 28,
     "metadata": {},
     "output_type": "execute_result"
    }
   ],
   "source": [
    "os.makedirs(f\"experimental_data/silver_parallel/{lang_pair}\", exist_ok=True)\n",
    "with open(f\"experimental_data/silver_parallel/{lang_pair}/parallel.txt\", \"w\") as f:\n",
    "    f.write(final_content_parallel)\n",
    "shutil.copyfile(f\"silver_data_from_parallel/{lang_pair}/gold.txt\", f\"experimental_data/silver_parallel/{lang_pair}/gold.txt\")"
   ]
  },
  {
   "cell_type": "markdown",
   "metadata": {},
   "source": [
    "## C4"
   ]
  },
  {
   "cell_type": "code",
   "execution_count": 29,
   "metadata": {},
   "outputs": [],
   "source": [
    "import os"
   ]
  },
  {
   "cell_type": "code",
   "execution_count": 34,
   "metadata": {},
   "outputs": [],
   "source": []
  },
  {
   "cell_type": "code",
   "execution_count": 83,
   "metadata": {},
   "outputs": [
    {
     "name": "stderr",
     "output_type": "stream",
     "text": [
      "100%|██████████| 646605/646605 [00:01<00:00, 485786.82it/s]\n"
     ]
    }
   ],
   "source": [
    "lang_pair = \"eng_cze\"\n",
    "os.makedirs(f\"experimental_data/c4/{lang_pair}\", exist_ok=True)\n",
    "with open(f\"data/{lang_pair}/parallel.txt\", \"r\") as f:\n",
    "    old_parallel_sentences = f.read().splitlines()\n",
    "\n",
    "skipping = 0\n",
    "parallel_sentences = []\n",
    "for p in tqdm(old_parallel_sentences):\n",
    "    if \"|||\" in p and p.split(\"|||\")[0].strip()!=\"\" and p.split(\"|||\")[1].strip()!=\"\":\n",
    "        parallel_sentences.append(p)\n",
    "    else:\n",
    "        skipping+=1"
   ]
  },
  {
   "cell_type": "code",
   "execution_count": 84,
   "metadata": {},
   "outputs": [
    {
     "data": {
      "text/plain": [
       "1053"
      ]
     },
     "execution_count": 84,
     "metadata": {},
     "output_type": "execute_result"
    }
   ],
   "source": [
    "skipping"
   ]
  },
  {
   "cell_type": "code",
   "execution_count": 85,
   "metadata": {},
   "outputs": [],
   "source": [
    "with open(f\"silver_data_from_c4/{lang_pair}/{lang_pair}.txt\", \"r\") as f:\n",
    "    gold_psentences = f.read().splitlines()"
   ]
  },
  {
   "cell_type": "code",
   "execution_count": 86,
   "metadata": {},
   "outputs": [
    {
     "data": {
      "text/plain": [
       "'experimental_data/c4/eng_cze/gold.txt'"
      ]
     },
     "execution_count": 86,
     "metadata": {},
     "output_type": "execute_result"
    }
   ],
   "source": [
    "with open(f\"experimental_data/c4/{lang_pair}/parallel.txt\", \"w\") as f:\n",
    "    f.write(\"\\n\".join(gold_psentences+parallel_sentences))\n",
    "shutil.copyfile(f\"silver_data_from_c4/{lang_pair}/gold.txt\", f\"experimental_data/c4/{lang_pair}/gold.txt\")"
   ]
  },
  {
   "cell_type": "code",
   "execution_count": 70,
   "metadata": {},
   "outputs": [],
   "source": [
    "#cze\n",
    "#deu\n",
    "#ron"
   ]
  },
  {
   "cell_type": "code",
   "execution_count": null,
   "metadata": {},
   "outputs": [],
   "source": []
  }
 ],
 "metadata": {
  "kernelspec": {
   "display_name": "Python 3",
   "language": "python",
   "name": "python3"
  },
  "language_info": {
   "codemirror_mode": {
    "name": "ipython",
    "version": 3
   },
   "file_extension": ".py",
   "mimetype": "text/x-python",
   "name": "python",
   "nbconvert_exporter": "python",
   "pygments_lexer": "ipython3",
   "version": "3.8.1"
  }
 },
 "nbformat": 4,
 "nbformat_minor": 2
}
