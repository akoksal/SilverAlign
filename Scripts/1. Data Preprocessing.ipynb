{
 "cells": [
  {
   "cell_type": "markdown",
   "metadata": {},
   "source": [
    "## ENG-CZE"
   ]
  },
  {
   "cell_type": "code",
   "execution_count": 6,
   "metadata": {},
   "outputs": [],
   "source": [
    "import os\n",
    "import re"
   ]
  },
  {
   "cell_type": "code",
   "execution_count": 2,
   "metadata": {},
   "outputs": [],
   "source": [
    "os.makedirs(\"data/eng_cze/\", exist_ok=True)"
   ]
  },
  {
   "cell_type": "code",
   "execution_count": 4,
   "metadata": {},
   "outputs": [],
   "source": [
    "!cp raw_data/eng_cze/eng_cze.gold data/eng_cze/gold.txt"
   ]
  },
  {
   "cell_type": "code",
   "execution_count": 10,
   "metadata": {},
   "outputs": [],
   "source": [
    "with open(\"raw_data/eng_cze/eng_gold.txt\", \"r\") as f:\n",
    "    eng = [re.sub(\"^\\d+\\t\", \"\", x) for x in f.read().splitlines()]\n",
    "with open(\"raw_data/eng_cze/cze_gold.txt\", \"r\") as f:\n",
    "    cze = [re.sub(\"^\\d+\\t\", \"\", x) for x in f.read().splitlines()]\n",
    "\n",
    "with open(\"data/eng_cze/eng_cze.txt\", \"w\") as f:\n",
    "    for e,c in zip(eng,cze):\n",
    "        f.write(e.strip()+\" ||| \"+c.strip()+\"\\n\")"
   ]
  },
  {
   "cell_type": "code",
   "execution_count": 14,
   "metadata": {},
   "outputs": [],
   "source": [
    "with open(\"raw_data/eng_cze/parallel/cs-en/europarl-v7.cs-en.en\", \"r\") as f:\n",
    "    eng = [x for x in f.read().splitlines()]\n",
    "with open(\"raw_data/eng_cze/parallel/cs-en/europarl-v7.cs-en.cs\", \"r\") as f:\n",
    "    cze = [x for x in f.read().splitlines()]\n",
    "\n",
    "with open(\"data/eng_cze/parallel.txt\", \"w\") as f:\n",
    "    for e,c in zip(eng,cze):\n",
    "        f.write(e.strip()+\" ||| \"+c.strip()+\"\\n\")"
   ]
  },
  {
   "cell_type": "code",
   "execution_count": 96,
   "metadata": {},
   "outputs": [
    {
     "name": "stdout",
     "output_type": "stream",
     "text": [
      "  646605 data/eng_cze/parallel.txt\r\n"
     ]
    }
   ],
   "source": [
    "!wc -l data/eng_cze/parallel.txt"
   ]
  },
  {
   "cell_type": "markdown",
   "metadata": {},
   "source": [
    "## ENG-DEU"
   ]
  },
  {
   "cell_type": "code",
   "execution_count": 15,
   "metadata": {},
   "outputs": [],
   "source": [
    "os.makedirs(\"data/eng_deu/\", exist_ok=True)"
   ]
  },
  {
   "cell_type": "code",
   "execution_count": 17,
   "metadata": {},
   "outputs": [
    {
     "name": "stdout",
     "output_type": "stream",
     "text": [
      "0\t0-0 1-1 2-2 3-1 4-3 4-4 5-5 6-9 7-6 7-7 7-8 8-10\r\n",
      "1\t1-0 2-1 3-2 4-1 5-1 6-3\r\n",
      "2\t0-0 1-0 10-8 11-9 12-11 13-10 14-12 15-13 16-14 17-16 18-17 19p25 19p26 20p24 21p24 22p24 23-20 24-21 25-22 26-19 27-27 2p1 3-2 4-3 5-4 6-4 7-7 8p5 9-6\r\n",
      "3\t0-1 0p0 1-2 10-8 11-8 12-10 12-9 13-12 14-13 15-15 16-16 17-17 18-18 2-4 3-5 4-6 5p7 6-8 7-8 8-8 9-8\r\n",
      "4\t0p6 1-7 10-1 11-1 12-2 13-3 14-4 16-12 16-13 17-14 17p15 18-15 18p14 19-15 19p14 2-8 20-15 21-16 22-17 23-21 24-11 25-18 26-19 27-19 28-19 29-20 30-22 31-23 32-24 33-24 34-25 3p6 3p9 4p9 5-10 6p9 7-5 8-5 9-5\r\n",
      "5\t0p2 10-16 11-16 12-12 12-13 13-14 14-17 1p0 2p1 3p3 4p4 5p5 7-15 8-16 9-16\r\n",
      "6\t1-2 10-15 12-10 13-11 14-12 15-16 2-0 3-4 4-5 5-1 6-7 7p13 7p14 8-8\r\n",
      "7\t0-0 1-1 10-6 11-7 12-7 13-9 14p15 15-15 16p12 17-13 2-8 20-14 22-17 3-10 5-2 6-2 7-3 8-4 9-5\r\n",
      "8\t0-0 1-1 2-2 3-3 4-3 5-4 6-5 7-5 8-6 9-7\r\n",
      "9\t0-5 1-6 10-15 11-16 12-16 13-18 13-19 13-20 16-21 17-22 18-23 19-24 2-7 20-25 21-26 22p27 23-27 24-33 25-28 26-29 27-31 28-32 29-34 3-1 4-3 5-2 6-10 7-8 7-9 8-10 9-14\r\n"
     ]
    }
   ],
   "source": [
    "!head raw_data/eng_deu/eng_deu.gold"
   ]
  },
  {
   "cell_type": "code",
   "execution_count": 18,
   "metadata": {},
   "outputs": [],
   "source": [
    "!cp raw_data/eng_deu/eng_deu.gold data/eng_deu/gold.txt"
   ]
  },
  {
   "cell_type": "code",
   "execution_count": 19,
   "metadata": {},
   "outputs": [],
   "source": [
    "with open(\"raw_data/eng_deu/eng_gold.txt\", \"r\") as f:\n",
    "    eng = [re.sub(\"^\\d+\\t\", \"\", x) for x in f.read().splitlines()]\n",
    "with open(\"raw_data/eng_deu/deu_gold.txt\", \"r\") as f:\n",
    "    deu = [re.sub(\"^\\d+\\t\", \"\", x) for x in f.read().splitlines()]\n",
    "\n",
    "with open(\"data/eng_deu/eng_deu.txt\", \"w\") as f:\n",
    "    for e,d in zip(eng,deu):\n",
    "        f.write(e.strip()+\" ||| \"+d.strip()+\"\\n\")"
   ]
  },
  {
   "cell_type": "code",
   "execution_count": 20,
   "metadata": {},
   "outputs": [],
   "source": [
    "with open(\"raw_data/eng_deu/parallel/europarl-v7.de-en.en\", \"r\") as f:\n",
    "    eng = [x for x in f.read().splitlines()]\n",
    "with open(\"raw_data/eng_deu/parallel/europarl-v7.de-en.de\", \"r\") as f:\n",
    "    deu = [x for x in f.read().splitlines()]\n",
    "\n",
    "with open(\"data/eng_deu/parallel.txt\", \"w\") as f:\n",
    "    for e,d in zip(eng,deu):\n",
    "        f.write(e.strip()+\" ||| \"+d.strip()+\"\\n\")"
   ]
  },
  {
   "cell_type": "code",
   "execution_count": 95,
   "metadata": {},
   "outputs": [
    {
     "name": "stdout",
     "output_type": "stream",
     "text": [
      " 1920209 data/eng_deu/parallel.txt\r\n"
     ]
    }
   ],
   "source": [
    "!wc -l data/eng_deu/parallel.txt"
   ]
  },
  {
   "cell_type": "markdown",
   "metadata": {},
   "source": [
    "## ENG-FRA"
   ]
  },
  {
   "cell_type": "code",
   "execution_count": 151,
   "metadata": {},
   "outputs": [],
   "source": [
    "os.makedirs(\"data/eng_fra/\", exist_ok=True)"
   ]
  },
  {
   "cell_type": "code",
   "execution_count": 152,
   "metadata": {},
   "outputs": [
    {
     "name": "stdout",
     "output_type": "stream",
     "text": [
      "0\t0-0 1-1\r\n",
      "1\t0-0 1-1\r\n",
      "2\t0-0 1-1 2-2 3-3\r\n",
      "3\t0-0 1-1 2-2 3-3\r\n",
      "4\t0-0 1-1 2-2 3-3\r\n",
      "5\t1-2 2-0 3-3 4-4 5-6 6-7 7-8 8-11 9-12 10-13 11-14 12-15 15-19 15-20 16-21 17-22 18-23 19-24 0p0 5p5 13p17 13p18 14p18\r\n",
      "6\t3-1 0p0 1p0 2p0\r\n",
      "7\t3-1 0p0 1p0 2p0\r\n",
      "8\t0-0 1-2 2-3 3-4 4-5 7-8 8-9 9-10 10-12 11-14 12-15 1p1 5p6 5p7 6p6 6p7 10p13 11p13\r\n",
      "9\t0-0 0-1 1-2 2-4 3-5 4-7 5-8 6-9 7-10 8-11 9-13 10-14 11-17 12-16 13-18 1p3 2p3 3p6 4p6 9p12 10p15 12p15\r\n"
     ]
    }
   ],
   "source": [
    "!head raw_data/eng_fra/eng_fra_hans.gold"
   ]
  },
  {
   "cell_type": "code",
   "execution_count": 153,
   "metadata": {},
   "outputs": [],
   "source": [
    "!cp raw_data/eng_fra/eng_fra_hans.gold data/eng_fra/gold.txt"
   ]
  },
  {
   "cell_type": "code",
   "execution_count": 154,
   "metadata": {},
   "outputs": [],
   "source": [
    "with open(\"raw_data/eng_fra/eng_hans_gold.txt\", \"r\") as f:\n",
    "    eng = [re.sub(\"^\\d+\\t\", \"\", x) for x in f.read().splitlines()]\n",
    "with open(\"raw_data/eng_fra/fra_hans_gold.txt\", \"r\") as f:\n",
    "    fra = [re.sub(\"^\\d+\\t\", \"\", x) for x in f.read().splitlines()]\n",
    "\n",
    "with open(\"data/eng_fra/eng_fra.txt\", \"w\") as f:\n",
    "    for e,fr in zip(eng,fra):\n",
    "        f.write(e.strip()+\" ||| \"+fr.strip()+\"\\n\")"
   ]
  },
  {
   "cell_type": "code",
   "execution_count": 155,
   "metadata": {},
   "outputs": [],
   "source": [
    "# !rm -rf raw_data/eng_fra/parallel/house/*.gz"
   ]
  },
  {
   "cell_type": "code",
   "execution_count": 156,
   "metadata": {},
   "outputs": [
    {
     "name": "stdout",
     "output_type": "stream",
     "text": [
      "HANSARD R�VIS� * NUM�RO 1 \r\n",
      "Le lundi 22 septembre 1997 \r\n",
      "PREMI�RE SESSION-36E L�GISLATURE \r\n",
      "Ouverture du Parlement \r\n",
      "Le greffier de la Chambre \r\n",
      "�LECTION DU PR�SIDENT \r\n",
      "Le pr�sident d'�lection (M. Caccia) \r\n",
      "Suspension de la s�ance \r\n",
      "Le pr�sident d'�lection (M. Caccia) \r\n",
      "Reprise de la s�ance \r\n"
     ]
    }
   ],
   "source": [
    "!head raw_data/eng_fra/parallel/house/hansard.36.1.house.debates.001.f"
   ]
  },
  {
   "cell_type": "code",
   "execution_count": 157,
   "metadata": {},
   "outputs": [],
   "source": [
    "en_files = set([\"raw_data/eng_fra/parallel/house/\"+x for x in os.listdir(\"raw_data/eng_fra/parallel/house/\") if x.endswith(\".e\")])\n",
    "fr_files = set([\"raw_data/eng_fra/parallel/house/\"+x for x in os.listdir(\"raw_data/eng_fra/parallel/house/\") if x.endswith(\".f\")])\n",
    "assert set([x[:-1] for x in en_files])==set([x[:-1] for x in fr_files])"
   ]
  },
  {
   "cell_type": "code",
   "execution_count": 158,
   "metadata": {},
   "outputs": [],
   "source": [
    "!rm -rf data/eng_fra/parallel.txt"
   ]
  },
  {
   "cell_type": "code",
   "execution_count": 159,
   "metadata": {},
   "outputs": [],
   "source": [
    "for en_file in sorted(list(en_files)):\n",
    "    fr_file = en_file[:-1]+\"f\"\n",
    "    with open(en_file, \"r\",encoding=\"latin-1\") as f, open(fr_file,\"r\",encoding=\"latin-1\") as g, open(\"data/eng_fra/parallel.txt\",\"a\") as h:\n",
    "        for source, target in zip(f.read().splitlines(), g.read().splitlines()):\n",
    "            h.write(source+\" ||| \"+target+\"\\n\")"
   ]
  },
  {
   "cell_type": "code",
   "execution_count": 160,
   "metadata": {},
   "outputs": [],
   "source": [
    "# !rm -rf raw_data/eng_fra/parallel/senate/*.gz"
   ]
  },
  {
   "cell_type": "code",
   "execution_count": 161,
   "metadata": {},
   "outputs": [],
   "source": [
    "en_files = set([\"raw_data/eng_fra/parallel/senate/\"+x for x in os.listdir(\"raw_data/eng_fra/parallel/senate/\") if x.endswith(\".e\")])\n",
    "fr_files = set([\"raw_data/eng_fra/parallel/senate/\"+x for x in os.listdir(\"raw_data/eng_fra/parallel/senate/\") if x.endswith(\".f\")])\n",
    "assert set([x[:-1] for x in en_files])==set([x[:-1] for x in fr_files])"
   ]
  },
  {
   "cell_type": "code",
   "execution_count": 162,
   "metadata": {},
   "outputs": [],
   "source": [
    "for en_file in sorted(list(en_files)):\n",
    "    fr_file = en_file[:-1]+\"f\"\n",
    "    with open(en_file, \"r\",encoding=\"latin-1\") as f, open(fr_file,\"r\",encoding=\"latin-1\") as g, open(\"data/eng_fra/parallel.txt\",\"a\") as h:\n",
    "        for source, target in zip(f.read().splitlines(), g.read().splitlines()):\n",
    "            h.write(source+\" ||| \"+target+\"\\n\")"
   ]
  },
  {
   "cell_type": "code",
   "execution_count": 163,
   "metadata": {},
   "outputs": [
    {
     "name": "stdout",
     "output_type": "stream",
     "text": [
      " 1130104 data/eng_fra/parallel.txt\r\n"
     ]
    }
   ],
   "source": [
    "!wc -l data/eng_fra/parallel.txt"
   ]
  },
  {
   "cell_type": "markdown",
   "metadata": {},
   "source": [
    "## ENG-HIN"
   ]
  },
  {
   "cell_type": "code",
   "execution_count": 143,
   "metadata": {},
   "outputs": [],
   "source": [
    "os.makedirs(\"data/eng_hin/\", exist_ok=True)"
   ]
  },
  {
   "cell_type": "code",
   "execution_count": 144,
   "metadata": {},
   "outputs": [
    {
     "name": "stdout",
     "output_type": "stream",
     "text": [
      "0\t1-0 10-13 11-11 12-10 12-7 12-8 12-9 13-6 14-5 15-21 2-2 2-3 3-20 4-20 6-18 7-14 7-15 7-16 8-14 8-15 8-16 9-12\r\n",
      "1\t0-3 1-0 1-1 2-2\r\n",
      "2\t0-3 0-4 1-0 2-1 3-2\r\n",
      "3\t0-0 1-1 2-4 4-2 5-3 6-5\r\n",
      "4\t1-0 10-18 10-19 11-18 11-19 12-15 13-17 14-13 14-14 15-6 16-7 17-10 17-11 17-12 17-8 17-9 18-22 2-21 3-20 4-3 4-4 4-5 6-1 7-1 9-2\r\n",
      "5\t0-2 0-3 1-0 2-1\r\n",
      "6\t0-0 1-1 10-6 12-12 2-2 3-11 4-8 5-9 6-10 7-7 8-3 8-4 9-5\r\n",
      "7\t1-0 10-1 10-2 10-3 11-1 11-2 11-3 12-4 13-13 2-11 2-12 3-10 3-9 4-10 4-9 5-6 6-7 7-8 8-5 9-1 9-2 9-3\r\n",
      "8\t0-3 0-4 1-0 2-1 2-2 3-1 3-2 4-1 4-2\r\n",
      "9\t0-10 0-11 1-7 1-8 1-9 11-13 12-23 12-24 13-21 13-22 14-21 14-22 15-19 16-20 17-18 18-15 19-16 19-17 2-0 20-16 20-17 21-16 21-17 22-25 3-1 4-2 5-3 6-4 7-5 8-6 9-12\r\n"
     ]
    }
   ],
   "source": [
    "!head raw_data/eng_hin/eng_hin.gold"
   ]
  },
  {
   "cell_type": "code",
   "execution_count": 145,
   "metadata": {},
   "outputs": [],
   "source": [
    "!cp raw_data/eng_hin/eng_hin.gold data/eng_hin/gold.txt"
   ]
  },
  {
   "cell_type": "code",
   "execution_count": 146,
   "metadata": {},
   "outputs": [],
   "source": [
    "with open(\"raw_data/eng_hin/eng_gold.txt\", \"r\") as f:\n",
    "    eng = [re.sub(\"^\\d+\\t\", \"\", x) for x in f.read().splitlines()]\n",
    "with open(\"raw_data/eng_hin/hin_gold.txt\", \"r\") as f:\n",
    "    hin = [re.sub(\"^\\d+\\t\", \"\", x) for x in f.read().splitlines()]\n",
    "\n",
    "with open(\"data/eng_hin/eng_hin.txt\", \"w\") as f:\n",
    "    for e, h in zip(eng,hin):\n",
    "        f.write(e.strip()+\" ||| \"+h.strip()+\"\\n\")"
   ]
  },
  {
   "cell_type": "code",
   "execution_count": 147,
   "metadata": {},
   "outputs": [],
   "source": [
    "with open(\"raw_data/eng_hin/parallel/acl2005englishV1.txt\", \"r\") as f:\n",
    "    eng = [x for x in f.read().splitlines()]\n",
    "with open(\"raw_data/eng_hin/parallel/acl2005hindiV1.txt\", \"r\") as f:\n",
    "    hin = [x for x in f.read().splitlines()]\n",
    "\n",
    "with open(\"data/eng_hin/parallel.txt\", \"w\") as f:\n",
    "    for e,h in zip(eng,hin):\n",
    "        f.write(e.strip()+\" ||| \"+h.strip()+\"\\n\")"
   ]
  },
  {
   "cell_type": "code",
   "execution_count": 148,
   "metadata": {},
   "outputs": [
    {
     "name": "stdout",
     "output_type": "stream",
     "text": [
      "    3441 data/eng_hin/parallel.txt\r\n"
     ]
    }
   ],
   "source": [
    "!wc -l data/eng_hin/parallel.txt"
   ]
  },
  {
   "cell_type": "markdown",
   "metadata": {},
   "source": [
    "## ENG-PER"
   ]
  },
  {
   "cell_type": "code",
   "execution_count": 165,
   "metadata": {},
   "outputs": [],
   "source": [
    "os.makedirs(\"data/eng_per/\", exist_ok=True)"
   ]
  },
  {
   "cell_type": "code",
   "execution_count": 166,
   "metadata": {},
   "outputs": [
    {
     "name": "stdout",
     "output_type": "stream",
     "text": [
      "0\t0-0 1-1 10-14 11-2 11-3 11-4 12-5 13-5 14-6 15-10 15-11 16-7 17-18 2-12 3-12 5-15 5-16 5-17 6-13\r\n",
      "1\t0-0 1-1 11-10 11-11 11-12 12-13 12-14 13-13 13-14 14-15 15-17 16-16 17-20 2-2 3-3 4-6 4-7 5-4 5-5 6-8 7-9 8-18 8-19 9-19\r\n",
      "2\t0-0 1-10 1-11 1-9 10-5 11-12 2-1 3-2 4-4 6-6 7-7 9-8\r\n",
      "3\t0-20 0-21 0-22 1-22 11-9 12-10 14-11 16-11 18-14 19-14 2-6 20-13 21-12 22-15 24-17 26-18 27-19 28-0 29-3 3-6 30-2 31-1 32-23 4-7 5-5 6-4 9-8\r\n",
      "4\t11-9 13-10 14-11 16-13 17-12 18-14 19-15 2-0 20-16 21-15 22-19 3-1 5-4 5-5 6-6 7-17 7-18 8-7 9-17\r\n",
      "5\t0-0 1-1 11-7 12-14 12-15 13-9 14-8 15-10 16-12 17-11 19-18 19-19 20-17 21-16 22-20 23-21 23-25 24-22 26-24 27-23 28-26 3-3 4-2 5-4 7-6 9-5\r\n",
      "6\t0-0 1-1 10-13 2-2 3-5 4-7 5-6 5-7 6-8 7-9 8-12 9-11 9-12\r\n",
      "7\t1-0 2-9 3-1 3-2 4-8 4-9 5-3 6-7 7-6 8-10\r\n",
      "8\t0-6 1-7 10-16 11-21 12-26 13-22 13-25 13-26 14-24 15-23 17-27 17-28 2-8 22-36 22-37 22-38 24-31 25-31 26-31 27-32 28-33 29-34 3-9 30-5 31-0 34-4 35-3 36-2 37-39 4-10 5-11 6-12 6-13 7-18 7-19 7-20 8-14 8-15 9-17\r\n",
      "9\t1-7 10-12 11-13 12-15 12-16 14-19 15-20 16-21 17-22 17-23 18-22 18-23 19-22 19-23 2-6 20-24 20-26 21-30 23-29 23-30 24-27 25-28 26-31 27-32 27-33 28-34 28-35 29-34 29-35 3-18 30-34 30-35 31-37 32-38 33-5 34-0 36-2 37-3 38-4 39-39 4-17 4-18 5-17 5-18 6-8 7-9 8-10 9-11\r\n"
     ]
    }
   ],
   "source": [
    "!head raw_data/eng_per/eng_per.gold"
   ]
  },
  {
   "cell_type": "code",
   "execution_count": 167,
   "metadata": {},
   "outputs": [],
   "source": [
    "!cp raw_data/eng_per/eng_per.gold data/eng_per/gold.txt"
   ]
  },
  {
   "cell_type": "code",
   "execution_count": 168,
   "metadata": {},
   "outputs": [],
   "source": [
    "with open(\"raw_data/eng_per/eng_gold.txt\", \"r\") as f:\n",
    "    eng = [re.sub(\"^\\d+\\t\", \"\", x) for x in f.read().splitlines()]\n",
    "with open(\"raw_data/eng_per/per_gold.txt\", \"r\") as f:\n",
    "    per = [re.sub(\"^\\d+\\t\", \"\", x) for x in f.read().splitlines()]\n",
    "\n",
    "with open(\"data/eng_per/eng_per.txt\", \"w\") as f:\n",
    "    for e, p in zip(eng,per):\n",
    "        f.write(e.strip()+\" ||| \"+p.strip()+\"\\n\")"
   ]
  },
  {
   "cell_type": "code",
   "execution_count": 169,
   "metadata": {},
   "outputs": [],
   "source": [
    "with open('raw_data/eng_per/parallel/en-fa.tmx', \"r\") as f:\n",
    "    content = f.read()"
   ]
  },
  {
   "cell_type": "code",
   "execution_count": 170,
   "metadata": {},
   "outputs": [],
   "source": [
    "import re\n",
    "p = re.compile(r\"<tuv xml:lang=\\\"en\\\"><seg>(.*?)</seg></tuv>\")\n",
    "eng_end_pos = []\n",
    "for m in p.finditer(content):\n",
    "    eng_end_pos.append(m.end())\n",
    "    \n",
    "\n",
    "p = re.compile(r\"<tuv xml:lang=\\\"fa\\\"><seg>(.*?)</seg></tuv>\")\n",
    "fa_st_pos = []\n",
    "for m in p.finditer(content):\n",
    "    fa_st_pos.append(m.start())\n",
    "\n",
    "for a,b in zip(eng_end_pos, fa_st_pos):\n",
    "    if b-a!=7:\n",
    "        print(\"x\")"
   ]
  },
  {
   "cell_type": "code",
   "execution_count": 171,
   "metadata": {},
   "outputs": [],
   "source": [
    "x = re.findall(r\"<tuv xml:lang=\\\"en\\\"><seg>(.*?)</seg></tuv>\", content)\n",
    "y = re.findall(r\"<tuv xml:lang=\\\"fa\\\"><seg>(.*?)</seg></tuv>\", content)"
   ]
  },
  {
   "cell_type": "code",
   "execution_count": 172,
   "metadata": {},
   "outputs": [],
   "source": [
    "with open(\"data/eng_per/parallel.txt\", \"w\") as f:\n",
    "    for e,ff in zip(x, y):\n",
    "        f.write(e.strip()+\" ||| \"+ff.strip()+\"\\n\")"
   ]
  },
  {
   "cell_type": "code",
   "execution_count": 173,
   "metadata": {},
   "outputs": [
    {
     "name": "stdout",
     "output_type": "stream",
     "text": [
      "  594353 data/eng_per/parallel.txt\r\n"
     ]
    }
   ],
   "source": [
    "!wc -l data/eng_per/parallel.txt"
   ]
  },
  {
   "cell_type": "code",
   "execution_count": 150,
   "metadata": {},
   "outputs": [],
   "source": [
    "# re.findall(r\"<tuv xml:lang=\\\"en\\\"><seg>.*?</seg></tuv>\\n<tuv xml:lang=\\\"fa\\\"><seg>.*?</seg></tuv>\", content, re.DOTALL)[0]"
   ]
  },
  {
   "cell_type": "markdown",
   "metadata": {},
   "source": [
    "## ENG-RON"
   ]
  },
  {
   "cell_type": "code",
   "execution_count": 176,
   "metadata": {},
   "outputs": [],
   "source": [
    "os.makedirs(\"data/eng_ron/\", exist_ok=True)"
   ]
  },
  {
   "cell_type": "code",
   "execution_count": 175,
   "metadata": {},
   "outputs": [
    {
     "name": "stdout",
     "output_type": "stream",
     "text": [
      "0\t1-0 13-12 14-14 14-15 15-13 18-16 19-17 2-1 20-18 21-19 22-20 26-21 27-22 28-23 28-24 29-26 3-3 30-27 31-27 32-29 33-30 34-31 35-32 36-33 37-34 38-35 39-36 4-3 42-37 5-5 6-6 7-7 8-10 8-9 9-11\r\n",
      "1\t0-0 1-1 15-9 16-10 16-11 17-12 18-13 2-2 21-14 22-15 23-15 25-19 26-20 27-21 28-24 29-23 29-25 29-26 3-2 30-24 31-27 32-28 33-28 34-29 4-3 5-4 6-5 6-6 6-7 6-8 7-5 7-6 7-7 7-8 8-5 8-6 8-7 8-8 9-5 9-6 9-7 9-8\r\n",
      "2\t0-0 3-2 4-1 4-3 5-4 6-5 7-4 8-6\r\n",
      "3\t0-0 0-1 1-0 1-1 10-10 10-9 11-10 11-9 12-10 12-9 13-11 15-11 16-15 16-16 17-14 17-17 17-18 18-19 19-20 2-2 2-3 2-4 2-5 3-2 3-3 3-4 3-5 4-2 4-3 4-4 4-5 5-6 6-8 7-7 8-8 9-10 9-9\r\n",
      "4\t0-4 1-5 1-6 10-0 10-1 10-2 11-9 13-10 13-11 13-12 14-14 15-13 16-14 2-4 20-15 6-7 7-7 8-7 9-7\r\n",
      "5\t11-8 11-9 12-10 13-10 14-10 15-6 16-6 17-11 18-12 19-15 19-16 19-17 20-15 20-16 20-17 21-14 22-14 23-14 24-18 25-19 25-20 26-21 5-5 7-7 8-7\r\n",
      "6\t0-0 1-2 10-12 10-15 10-9 11-10 12-11 13-13 14-14 15-16 16-17 17-18 18-19 19-20 2-3 20-20 21-22 22-21 23-25 24-24 25-26 26-27 28-28 29-29 3-4 30-30 30-31 32-32 33-33 34-34 35-35 36-37 37-39 38-39 39-40 4-5 40-41 41-42 42-43 43-44 5-6 6-6 7-7 8-7 9-7\r\n",
      "7\t0-0 0-1 0-2 1-0 1-1 1-2 2-0 2-1 2-2 3-5 5-8\r\n",
      "8\t0-0 10-8 11-8 12-9 13-9 14-10 15-11 17-14 18-12 19-13 20-15 21-19 21-2 23-16 24-17 25-18 26-22 27-23 28-21 29-20 3-1 30-24 4-3 5-4 6-5 7-6 8-3 9-7\r\n",
      "9\t0-0 1-0 10-7 10-9 11-7 11-9 12-10 12-12 12-13 12-14 14-18 15-18 16-19 16-20 2-1 21-21 22-22 23-23 24-24 25-25 26-38 27-27 28-26 29-27 3-2 30-28 31-28 32-29 33-30 34-30 35-31 36-33 37-32 38-34 39-35 4-3 40-36 41-37 42-40 42-41 43-42 45-43 46-44 47-45 48-46 5-3 50-47 50-48 51-49 52-50 53-51 54-51 55-52 55-55 55-61 56-52 56-55 56-61 59-53 6-4 62-54 63-56 63-57 64-58 65-59 66-62 68-63 68-64 69-63 69-64 7-5 70-63 70-64 71-65 72-66 73-67 74-68 75-71 75-72 76-69 77-73 78-73 79-73 8-5 80-74 81-75 9-6\r\n"
     ]
    }
   ],
   "source": [
    "!head raw_data/eng_ron_05/eng_ron.gold"
   ]
  },
  {
   "cell_type": "code",
   "execution_count": 177,
   "metadata": {},
   "outputs": [],
   "source": [
    "!cp raw_data/eng_ron_05/eng_ron.gold data/eng_ron/gold.txt"
   ]
  },
  {
   "cell_type": "code",
   "execution_count": 179,
   "metadata": {},
   "outputs": [],
   "source": [
    "with open(\"raw_data/eng_ron_05/eng_gold.txt\", \"r\") as f:\n",
    "    eng = [re.sub(\"^\\d+\\t\", \"\", x) for x in f.read().splitlines()]\n",
    "with open(\"raw_data/eng_ron_05/ron_gold.txt\", \"r\") as f:\n",
    "    ron = [re.sub(\"^\\d+\\t\", \"\", x) for x in f.read().splitlines()]\n",
    "\n",
    "with open(\"data/eng_ron/eng_ron.txt\", \"w\") as f:\n",
    "    for e, r in zip(eng,ron):\n",
    "        f.write(e.strip()+\" ||| \"+r.strip()+\"\\n\")"
   ]
  },
  {
   "cell_type": "code",
   "execution_count": 212,
   "metadata": {},
   "outputs": [],
   "source": [
    "en_file_mapping = {(x[:10], x[-6:-2]):x for x in os.listdir(\"raw_data/eng_ron_05/parallel/Newspapers/\") if x.endswith(\".e\")}\n",
    "ro_file_mapping = {(x[:10], x[-6:-2]):x for x in os.listdir(\"raw_data/eng_ron_05/parallel/Newspapers/\") if x.endswith(\".r\")}"
   ]
  },
  {
   "cell_type": "code",
   "execution_count": 217,
   "metadata": {},
   "outputs": [],
   "source": [
    "common_keys = set(en_file_mapping.keys()).intersection(ro_file_mapping.keys())"
   ]
  },
  {
   "cell_type": "code",
   "execution_count": 239,
   "metadata": {},
   "outputs": [],
   "source": [
    "all_en_sents = []\n",
    "all_ro_sents = []\n",
    "for key in common_keys:\n",
    "    en_fp = en_file_mapping[key]\n",
    "    ro_fp = ro_file_mapping[key]\n",
    "    with open(\"raw_data/eng_ron_05/parallel/Newspapers/\"+en_fp, \"r\", encoding=\"latin-1\") as f:\n",
    "        en_sents = f.read().strip().splitlines()\n",
    "    with open(\"raw_data/eng_ron_05/parallel/Newspapers/\"+ro_fp, \"r\", encoding=\"latin-1\") as f:\n",
    "        ro_sents = f.read().strip().splitlines()\n",
    "    assert len(en_sents)==len(ro_sents)\n",
    "    all_en_sents.extend(en_sents)\n",
    "    all_ro_sents.extend(ro_sents)"
   ]
  },
  {
   "cell_type": "code",
   "execution_count": 240,
   "metadata": {},
   "outputs": [],
   "source": [
    "with open(\"raw_data/eng_ron_05/parallel/Constitution/Romanian.Constitution.e\", \"r\", encoding=\"latin-1\") as f:\n",
    "    eng = [x for x in f.read().splitlines()]\n",
    "with open(\"raw_data/eng_ron_05/parallel/Constitution/Romanian.Constitution.r\", \"r\", encoding=\"latin-1\") as f:\n",
    "    ron = [x for x in f.read().splitlines()]"
   ]
  },
  {
   "cell_type": "code",
   "execution_count": 241,
   "metadata": {},
   "outputs": [],
   "source": [
    "assert len(eng)==len(ron)"
   ]
  },
  {
   "cell_type": "code",
   "execution_count": 242,
   "metadata": {},
   "outputs": [],
   "source": [
    "all_en_sents.extend(eng)\n",
    "all_ro_sents.extend(ron)"
   ]
  },
  {
   "cell_type": "code",
   "execution_count": 244,
   "metadata": {},
   "outputs": [],
   "source": [
    "with open(\"raw_data/eng_ron_05/parallel/1984/1984.Orwell.e\", \"r\", encoding=\"latin-1\") as f:\n",
    "    eng = [x for x in f.read().splitlines()]\n",
    "with open(\"raw_data/eng_ron_05/parallel/1984/1984.Orwell.r\", \"r\", encoding=\"latin-1\") as f:\n",
    "    ron = [x for x in f.read().splitlines()]"
   ]
  },
  {
   "cell_type": "code",
   "execution_count": 245,
   "metadata": {},
   "outputs": [],
   "source": [
    "assert len(eng)==len(ron)"
   ]
  },
  {
   "cell_type": "code",
   "execution_count": 246,
   "metadata": {},
   "outputs": [],
   "source": [
    "all_en_sents.extend(eng)\n",
    "all_ro_sents.extend(ron)"
   ]
  },
  {
   "cell_type": "code",
   "execution_count": null,
   "metadata": {},
   "outputs": [],
   "source": []
  },
  {
   "cell_type": "code",
   "execution_count": 248,
   "metadata": {},
   "outputs": [],
   "source": [
    "with open(\"data/eng_ron/parallel.txt\", \"w\") as f:\n",
    "    for e,r in zip(all_en_sents, all_ro_sents):\n",
    "        f.write(e.strip()+\" ||| \"+r.strip()+\"\\n\")"
   ]
  },
  {
   "cell_type": "markdown",
   "metadata": {},
   "source": [
    "## FIN-HEB FIN-GRC"
   ]
  },
  {
   "cell_type": "code",
   "execution_count": 253,
   "metadata": {},
   "outputs": [],
   "source": [
    "!cp raw_data/fin_heb/gold.txt data/fin_heb/\n",
    "!cp raw_data/fin_grc/gold.txt data/fin_grc/"
   ]
  },
  {
   "cell_type": "code",
   "execution_count": 259,
   "metadata": {},
   "outputs": [],
   "source": [
    "!cp raw_data/fin_heb/parallel.txt data/fin_heb/fin_heb.txt\n",
    "!cp raw_data/fin_grc/parallel.txt data/fin_grc/fin_grc.txt"
   ]
  },
  {
   "cell_type": "code",
   "execution_count": 273,
   "metadata": {},
   "outputs": [],
   "source": [
    "!touch data/fin_heb/parallel.txt\n",
    "!touch data/fin_grc/parallel.txt"
   ]
  },
  {
   "cell_type": "code",
   "execution_count": null,
   "metadata": {},
   "outputs": [],
   "source": []
  }
 ],
 "metadata": {
  "kernelspec": {
   "display_name": "Python 3",
   "language": "python",
   "name": "python3"
  },
  "language_info": {
   "codemirror_mode": {
    "name": "ipython",
    "version": 3
   },
   "file_extension": ".py",
   "mimetype": "text/x-python",
   "name": "python",
   "nbconvert_exporter": "python",
   "pygments_lexer": "ipython3",
   "version": "3.8.1"
  }
 },
 "nbformat": 4,
 "nbformat_minor": 2
}
