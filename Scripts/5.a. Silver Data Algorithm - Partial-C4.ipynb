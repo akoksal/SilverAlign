{
 "cells": [
  {
   "cell_type": "code",
   "execution_count": null,
   "metadata": {},
   "outputs": [],
   "source": [
    "import pandas as pd\n",
    "from collections import defaultdict\n",
    "import numpy as np\n",
    "from tqdm import tqdm\n",
    "import json"
   ]
  },
  {
   "cell_type": "code",
   "execution_count": null,
   "metadata": {},
   "outputs": [],
   "source": [
    "# eng_cze\n",
    "# eng_deu\n",
    "# eng_fra\n",
    "# eng_hin\n",
    "# eng_per\n",
    "# eng_ron\n",
    "# eng_tur"
   ]
  },
  {
   "cell_type": "code",
   "execution_count": null,
   "metadata": {},
   "outputs": [],
   "source": [
    "target_lang = \"tur\"\n",
    "filetype = \"c4\"\n",
    "target_folder = \"silver_data_from_c4_relaxed\"\n",
    "\n",
    "df = pd.read_json(f\"alternative_data/c4/{target_lang}_translated_pairs.json\")"
   ]
  },
  {
   "cell_type": "code",
   "execution_count": null,
   "metadata": {},
   "outputs": [],
   "source": [
    "def which_words_changed(sent1, sent2):\n",
    "    if len(sent1.split())!=len(sent2.split()):\n",
    "        return [1]*len(sent1.split())\n",
    "    else:\n",
    "        x = []\n",
    "        for a, b in zip(sent1.split(), sent2.split()):\n",
    "            x.append(int(a!=b))\n",
    "        return x"
   ]
  },
  {
   "cell_type": "code",
   "execution_count": null,
   "metadata": {
    "scrolled": true
   },
   "outputs": [],
   "source": [
    "final_data = []\n",
    "sentence_ids = list(set(df[\"sentence_id\"]))\n",
    "for sentence_id in tqdm(sentence_ids):\n",
    "    sub_df = df.query(f\"sentence_id=={sentence_id}\")\n",
    "\n",
    "    source_sentence = sub_df.query(\"word_id==-1\")[\"sentence\"].iloc[0]\n",
    "    target_sentence = sub_df.query(\"word_id==-1\")[\"translated_sentences\"].iloc[0]\n",
    "\n",
    "    ch = defaultdict(list)\n",
    "\n",
    "    for word_id in range(0, max(sub_df[\"word_id\"])+1):\n",
    "        elements = sub_df.query(f\"word_id=={word_id}\").to_dict(orient=\"records\")\n",
    "        changed_s_sentences = [x[\"sentence\"] for x in elements]\n",
    "        changed_t_sentences = [x[\"translated_sentences\"] for x in elements]\n",
    "        for changed_s_sentence, changed_t_sentence in zip(changed_s_sentences, changed_t_sentences):\n",
    "            changed_words = which_words_changed(target_sentence, changed_t_sentence)\n",
    "            if len(changed_words)!=sum(changed_words):\n",
    "                ch[word_id].append(changed_words)\n",
    "    alignment = []\n",
    "    for source_word_id in ch:\n",
    "        temp_alignment = defaultdict(int)\n",
    "        total = len(ch[source_word_id])\n",
    "        for one_al in ch[source_word_id]:\n",
    "            for target_word_id, el in enumerate(one_al):\n",
    "                if el==1:\n",
    "                    temp_alignment[(source_word_id, target_word_id)]+=1\n",
    "        for x in temp_alignment:\n",
    "            alignment.append({\"source_word_id\":x[0], \"target_word_id\":x[1], \"freq\":temp_alignment[x], \"total\":total})\n",
    "            \n",
    "    \n",
    "    final_data.append({\"source_sentence\": source_sentence,\n",
    "                       \"target_sentence\": target_sentence,\n",
    "                       \"alignment\": alignment,\n",
    "                       \"sentence_id\": sentence_id})"
   ]
  },
  {
   "cell_type": "markdown",
   "metadata": {},
   "source": [
    "## Creating Silver Data"
   ]
  },
  {
   "cell_type": "code",
   "execution_count": null,
   "metadata": {},
   "outputs": [],
   "source": [
    "import os"
   ]
  },
  {
   "cell_type": "code",
   "execution_count": null,
   "metadata": {},
   "outputs": [],
   "source": [
    "en_sentences = df.query(\"word_id==-1\")[\"sentence\"].tolist()\n",
    "target_sentences = df.query(\"word_id==-1\")[\"translated_sentences\"].tolist()"
   ]
  },
  {
   "cell_type": "code",
   "execution_count": null,
   "metadata": {},
   "outputs": [],
   "source": [
    "os.makedirs(f\"{target_folder}/eng_{target_lang}\", exist_ok=True)"
   ]
  },
  {
   "cell_type": "code",
   "execution_count": null,
   "metadata": {},
   "outputs": [],
   "source": [
    "source_gold_sentences = []\n",
    "target_gold_sentences = []\n",
    "r = []\n",
    "for el in final_data:\n",
    "    r.append(len([x for x in el[\"alignment\"] if x[\"freq\"]==x[\"total\"] and x[\"total\"]>1])/len(el[\"source_sentence\"].split()))\n",
    "    source_gold_sentences.append(el[\"source_sentence\"])\n",
    "    target_gold_sentences.append(el[\"target_sentence\"])"
   ]
  },
  {
   "cell_type": "code",
   "execution_count": null,
   "metadata": {},
   "outputs": [],
   "source": [
    "import seaborn as sns\n",
    "sns.histplot(r).set(title=\"Silver Data Alignment Ratio (Normalized by Word Count)\", xlabel=\"Ratio\")"
   ]
  },
  {
   "cell_type": "code",
   "execution_count": null,
   "metadata": {},
   "outputs": [],
   "source": [
    "with open(f\"{target_folder}/eng_{target_lang}/gold.json\", \"w\") as f:\n",
    "    json.dump(final_data, f)"
   ]
  },
  {
   "cell_type": "code",
   "execution_count": null,
   "metadata": {},
   "outputs": [],
   "source": [
    "temp_gold = {}\n",
    "gold = {}\n",
    "for idx, x in enumerate(final_data):\n",
    "    temp_gold[idx] = defaultdict(list)\n",
    "    multi_keys = set()\n",
    "    for el in x[\"alignment\"]:\n",
    "        temp_gold[idx][el[\"source_word_id\"]].append(el[\"target_word_id\"])\n",
    "        if len(temp_gold[idx][el[\"source_word_id\"]])>1:\n",
    "            multi_keys.add(el[\"source_word_id\"])\n",
    "    for el in multi_keys:\n",
    "        del temp_gold[idx][el]\n",
    "\n",
    "\n",
    "for idx, x in enumerate(final_data):\n",
    "    gold[idx] = defaultdict(list)\n",
    "    for el in x[\"alignment\"]:\n",
    "        if el[\"freq\"]==el[\"total\"] & el[\"total\"]>3 and el[\"source_word_id\"] in temp_gold[idx] and\\\n",
    "            el[\"target_word_id\"] in temp_gold[idx][el[\"source_word_id\"]]:\n",
    "            gold[idx][el[\"source_word_id\"]].append(el[\"target_word_id\"])"
   ]
  },
  {
   "cell_type": "code",
   "execution_count": null,
   "metadata": {},
   "outputs": [],
   "source": [
    "empty = 0\n",
    "with open(f\"{target_folder}/eng_{target_lang}/gold.txt\", \"w\") as f, open(f\"{target_folder}/eng_{target_lang}/eng_{target_lang}.txt\", \"w\") as fg:\n",
    "    idx = 0\n",
    "    for el in gold:\n",
    "        text = f\"{idx}\\t\"\n",
    "        found = False\n",
    "        for sw_id in gold[el]:\n",
    "            for tw_id in gold[el][sw_id]:\n",
    "                text+= f\"{sw_id}-{tw_id} \"\n",
    "                found = True\n",
    "        if found:\n",
    "            f.write(text+\"\\n\")\n",
    "            fg.write(source_gold_sentences[el]+\" ||| \"+target_gold_sentences[el]+\"\\n\")\n",
    "            idx+=1\n",
    "        else:\n",
    "            empty+=1"
   ]
  },
  {
   "cell_type": "code",
   "execution_count": 1,
   "metadata": {},
   "outputs": [],
   "source": [
    "import pandas as pd\n",
    "from collections import defaultdict\n",
    "import numpy as np\n",
    "from tqdm import tqdm\n",
    "import json"
   ]
  },
  {
   "cell_type": "code",
   "execution_count": 2,
   "metadata": {},
   "outputs": [
    {
     "name": "stderr",
     "output_type": "stream",
     "text": [
      "100%|██████████| 50000/50000 [42:07<00:00, 19.79it/s] \n",
      "100%|██████████| 50000/50000 [41:26<00:00, 20.11it/s] \n",
      "100%|██████████| 50000/50000 [42:14<00:00, 19.73it/s]  \n",
      "100%|██████████| 50000/50000 [39:54<00:00, 20.88it/s]  \n",
      "100%|██████████| 50000/50000 [38:31<00:00, 21.63it/s]\n",
      "100%|██████████| 50000/50000 [40:52<00:00, 20.39it/s]  \n",
      "100%|██████████| 50000/50000 [5:54:54<00:00,  2.35it/s]       \n"
     ]
    },
    {
     "data": {
      "image/png": "[encoded data removed]",
      "text/plain": [
       "<Figure size 432x288 with 1 Axes>"
      ]
     },
     "metadata": {
      "needs_background": "light"
     },
     "output_type": "display_data"
    }
   ],
   "source": [
    "for target_lang in [\"cze\", \"deu\", \"fra\", \"ron\", \"hin\", \"tur\", \"per\"]:\n",
    "    filetype = \"c4\"\n",
    "    target_folder = \"silver_data_from_c4_relaxed\"\n",
    "\n",
    "    df = pd.read_json(f\"alternative_data/c4/{target_lang}_translated_pairs.json\")\n",
    "\n",
    "    def which_words_changed(sent1, sent2):\n",
    "        if len(sent1.split())!=len(sent2.split()):\n",
    "            return [1]*len(sent1.split())\n",
    "        else:\n",
    "            x = []\n",
    "            for a, b in zip(sent1.split(), sent2.split()):\n",
    "                x.append(int(a!=b))\n",
    "            return x\n",
    "\n",
    "    final_data = []\n",
    "    sentence_ids = list(set(df[\"sentence_id\"]))\n",
    "    for sentence_id in tqdm(sentence_ids):\n",
    "        sub_df = df.query(f\"sentence_id=={sentence_id}\")\n",
    "\n",
    "        source_sentence = sub_df.query(\"word_id==-1\")[\"sentence\"].iloc[0]\n",
    "        target_sentence = sub_df.query(\"word_id==-1\")[\"translated_sentences\"].iloc[0]\n",
    "\n",
    "        ch = defaultdict(list)\n",
    "\n",
    "        for word_id in range(0, max(sub_df[\"word_id\"])+1):\n",
    "            elements = sub_df.query(f\"word_id=={word_id}\").to_dict(orient=\"records\")\n",
    "            changed_s_sentences = [x[\"sentence\"] for x in elements]\n",
    "            changed_t_sentences = [x[\"translated_sentences\"] for x in elements]\n",
    "            for changed_s_sentence, changed_t_sentence in zip(changed_s_sentences, changed_t_sentences):\n",
    "                changed_words = which_words_changed(target_sentence, changed_t_sentence)\n",
    "                if len(changed_words)!=sum(changed_words):\n",
    "                    ch[word_id].append(changed_words)\n",
    "        alignment = []\n",
    "        for source_word_id in ch:\n",
    "            temp_alignment = defaultdict(int)\n",
    "            total = len(ch[source_word_id])\n",
    "            for one_al in ch[source_word_id]:\n",
    "                for target_word_id, el in enumerate(one_al):\n",
    "                    if el==1:\n",
    "                        temp_alignment[(source_word_id, target_word_id)]+=1\n",
    "            for x in temp_alignment:\n",
    "                alignment.append({\"source_word_id\":x[0], \"target_word_id\":x[1], \"freq\":temp_alignment[x], \"total\":total})\n",
    "\n",
    "\n",
    "        final_data.append({\"source_sentence\": source_sentence,\n",
    "                           \"target_sentence\": target_sentence,\n",
    "                           \"alignment\": alignment,\n",
    "                           \"sentence_id\": sentence_id})\n",
    "\n",
    "    ## Creating Silver Data\n",
    "\n",
    "    import os\n",
    "\n",
    "    en_sentences = df.query(\"word_id==-1\")[\"sentence\"].tolist()\n",
    "    target_sentences = df.query(\"word_id==-1\")[\"translated_sentences\"].tolist()\n",
    "\n",
    "    os.makedirs(f\"{target_folder}/eng_{target_lang}\", exist_ok=True)\n",
    "\n",
    "    source_gold_sentences = []\n",
    "    target_gold_sentences = []\n",
    "    r = []\n",
    "    for el in final_data:\n",
    "        r.append(len([x for x in el[\"alignment\"] if x[\"freq\"]==x[\"total\"] and x[\"total\"]>1])/len(el[\"source_sentence\"].split()))\n",
    "        source_gold_sentences.append(el[\"source_sentence\"])\n",
    "        target_gold_sentences.append(el[\"target_sentence\"])\n",
    "\n",
    "    import seaborn as sns\n",
    "    sns.histplot(r).set(title=\"Silver Data Alignment Ratio (Normalized by Word Count)\", xlabel=\"Ratio\")\n",
    "\n",
    "    with open(f\"{target_folder}/eng_{target_lang}/gold.json\", \"w\") as f:\n",
    "        json.dump(final_data, f)\n",
    "\n",
    "    temp_gold = {}\n",
    "    gold = {}\n",
    "    for idx, x in enumerate(final_data):\n",
    "        temp_gold[idx] = defaultdict(list)\n",
    "        multi_keys = set()\n",
    "        for el in x[\"alignment\"]:\n",
    "            temp_gold[idx][el[\"source_word_id\"]].append(el[\"target_word_id\"])\n",
    "            if len(temp_gold[idx][el[\"source_word_id\"]])>1:\n",
    "                multi_keys.add(el[\"source_word_id\"])\n",
    "        for el in multi_keys:\n",
    "            del temp_gold[idx][el]\n",
    "\n",
    "\n",
    "    for idx, x in enumerate(final_data):\n",
    "        gold[idx] = defaultdict(list)\n",
    "        for el in x[\"alignment\"]:\n",
    "            if el[\"freq\"]==el[\"total\"] & el[\"total\"]>=3 and el[\"source_word_id\"] in temp_gold[idx] and\\\n",
    "                el[\"target_word_id\"] in temp_gold[idx][el[\"source_word_id\"]]:\n",
    "                gold[idx][el[\"source_word_id\"]].append(el[\"target_word_id\"])\n",
    "\n",
    "    empty = 0\n",
    "    with open(f\"{target_folder}/eng_{target_lang}/gold.txt\", \"w\") as f, open(f\"{target_folder}/eng_{target_lang}/eng_{target_lang}.txt\", \"w\") as fg:\n",
    "        idx = 0\n",
    "        for el in gold:\n",
    "            text = f\"{idx}\\t\"\n",
    "            found = False\n",
    "            for sw_id in gold[el]:\n",
    "                for tw_id in gold[el][sw_id]:\n",
    "                    text+= f\"{sw_id}-{tw_id} \"\n",
    "                    found = True\n",
    "            if found:\n",
    "                f.write(text+\"\\n\")\n",
    "                fg.write(source_gold_sentences[el]+\" ||| \"+target_gold_sentences[el]+\"\\n\")\n",
    "                idx+=1\n",
    "            else:\n",
    "                empty+=1\n",
    "    del df"
   ]
  },
  {
   "cell_type": "code",
   "execution_count": null,
   "metadata": {},
   "outputs": [],
   "source": []
  }
 ],
 "metadata": {
  "kernelspec": {
   "display_name": "Python 3",
   "language": "python",
   "name": "python3"
  },
  "language_info": {
   "codemirror_mode": {
    "name": "ipython",
    "version": 3
   },
   "file_extension": ".py",
   "mimetype": "text/x-python",
   "name": "python",
   "nbconvert_exporter": "python",
   "pygments_lexer": "ipython3",
   "version": "3.8.1"
  }
 },
 "nbformat": 4,
 "nbformat_minor": 5
}
