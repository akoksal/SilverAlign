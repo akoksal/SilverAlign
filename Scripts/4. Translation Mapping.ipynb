{
 "cells": [
  {
   "cell_type": "code",
   "execution_count": null,
   "metadata": {},
   "outputs": [],
   "source": [
    "import json\n",
    "import pandas as pd\n",
    "import os"
   ]
  },
  {
   "cell_type": "code",
   "execution_count": null,
   "metadata": {},
   "outputs": [],
   "source": [
    "lang_pair = \"fin_heb\"\n",
    "filetype = \"gold\" # parallel_sample | gold\n",
    "# filetype = \"parallel_sample\"\n",
    "targ_lang = lang_pair.split(\"_\")[1]\n",
    "target_folder = f\"alternative_data/{lang_pair}/source_excel_{filetype}\""
   ]
  },
  {
   "cell_type": "code",
   "execution_count": null,
   "metadata": {},
   "outputs": [],
   "source": [
    "with open(f\"alternative_data/{lang_pair}/{filetype}_augmented.json\", \"r\") as f:\n",
    "    sentences = json.load(f)\n",
    "\n",
    "real_sentences = []\n",
    "temp_ids = set()\n",
    "for sent in sentences:\n",
    "    if sent[\"sentence_id\"] not in temp_ids:\n",
    "        temp_ids.add(sent[\"sentence_id\"])\n",
    "        real_sentences.append({\"sentence\":sent[\"masked_sentence\"].replace(\"[MASK]\", sent[\"word\"]),\n",
    "                              \"sentence_id\": sent[\"sentence_id\"],\n",
    "                              \"word_id\": -1,\n",
    "                              \"probability\": 0})\n",
    "\n",
    "for sent in sentences:\n",
    "    ct = 0\n",
    "    for rep in sent[\"replacement\"]:\n",
    "        if rep[\"word\"].strip().lower()!=sent[\"word\"].lower():\n",
    "            ct+=1\n",
    "            real_sentences.append({\"sentence\":sent[\"masked_sentence\"].replace(\"[MASK]\", rep[\"word\"].strip()),\n",
    "                                  \"sentence_id\": sent[\"sentence_id\"],\n",
    "                                  \"word_id\": sent[\"word_id\"],\n",
    "                                  \"probability\": rep[\"prob\"]})\n",
    "selected_sentences = sorted(real_sentences, key=lambda d: (d['sentence_id'], d[\"word_id\"])) "
   ]
  },
  {
   "cell_type": "code",
   "execution_count": null,
   "metadata": {},
   "outputs": [],
   "source": []
  },
  {
   "cell_type": "code",
   "execution_count": null,
   "metadata": {},
   "outputs": [],
   "source": [
    "df_en = pd.DataFrame([])\n",
    "i = 0\n",
    "while True:\n",
    "    try:\n",
    "        df_temp = pd.read_excel(f\"{target_folder}/{i}.xlsx\", header=None)\n",
    "    except Exception as e:\n",
    "        print(e)\n",
    "        print(f\"Breaking at {i}\")\n",
    "        break\n",
    "    df_en = pd.concat([df_en, df_temp])\n",
    "    i+=1"
   ]
  },
  {
   "cell_type": "code",
   "execution_count": null,
   "metadata": {},
   "outputs": [],
   "source": [
    "len(df_en) "
   ]
  },
  {
   "cell_type": "code",
   "execution_count": null,
   "metadata": {},
   "outputs": [],
   "source": [
    "df = pd.DataFrame([])\n",
    "i=0\n",
    "while True:\n",
    "    try:\n",
    "        df_temp = pd.read_excel(f\"{target_folder}/{i}_{targ_lang}.xlsx\", header=None)\n",
    "    except Exception as e:\n",
    "        print(e)\n",
    "        print(f\"Breaking at {i}\")\n",
    "        break\n",
    "    df = pd.concat([df, df_temp])\n",
    "    i+=1"
   ]
  },
  {
   "cell_type": "code",
   "execution_count": null,
   "metadata": {},
   "outputs": [],
   "source": [
    "len(df)"
   ]
  },
  {
   "cell_type": "code",
   "execution_count": null,
   "metadata": {},
   "outputs": [],
   "source": [
    "df = df.reset_index(drop=True)"
   ]
  },
  {
   "cell_type": "code",
   "execution_count": null,
   "metadata": {},
   "outputs": [],
   "source": [
    "import re, string\n",
    "target_sentences = [\n",
    "re.sub(r\"\\s+\", r\" \", re.sub(r'([{}])'.format(\"”“!\\\"#$%&()*+,-./:;<=>?@[\\\\]^_`{|}~\"), r' \\1 ',str(x).strip()))\n",
    "    for x in df[0].tolist()]"
   ]
  },
  {
   "cell_type": "code",
   "execution_count": null,
   "metadata": {},
   "outputs": [],
   "source": [
    "len(selected_sentences), len(target_sentences), len(df), len(df_en)"
   ]
  },
  {
   "cell_type": "code",
   "execution_count": null,
   "metadata": {},
   "outputs": [],
   "source": [
    "target_sentences[:3]"
   ]
  },
  {
   "cell_type": "code",
   "execution_count": null,
   "metadata": {},
   "outputs": [],
   "source": [
    "selected_sentences[:3]"
   ]
  },
  {
   "cell_type": "code",
   "execution_count": null,
   "metadata": {},
   "outputs": [],
   "source": [
    "selected_sentences[0]"
   ]
  },
  {
   "cell_type": "code",
   "execution_count": null,
   "metadata": {},
   "outputs": [],
   "source": [
    "for el, ts in zip(selected_sentences, target_sentences):\n",
    "    el[\"translated_sentences\"] = ts"
   ]
  },
  {
   "cell_type": "code",
   "execution_count": null,
   "metadata": {},
   "outputs": [],
   "source": [
    "selected_sentences[2]"
   ]
  },
  {
   "cell_type": "code",
   "execution_count": null,
   "metadata": {},
   "outputs": [],
   "source": [
    "with open(f\"alternative_data/{lang_pair}/{filetype}_translated_pairs.json\", \"w\") as f:\n",
    "    json.dump(selected_sentences, f)"
   ]
  },
  {
   "cell_type": "code",
   "execution_count": null,
   "metadata": {},
   "outputs": [],
   "source": []
  },
  {
   "cell_type": "code",
   "execution_count": null,
   "metadata": {},
   "outputs": [],
   "source": []
  }
 ],
 "metadata": {
  "kernelspec": {
   "display_name": "Python 3",
   "language": "python",
   "name": "python3"
  },
  "language_info": {
   "codemirror_mode": {
    "name": "ipython",
    "version": 3
   },
   "file_extension": ".py",
   "mimetype": "text/x-python",
   "name": "python",
   "nbconvert_exporter": "python",
   "pygments_lexer": "ipython3",
   "version": "3.8.1"
  }
 },
 "nbformat": 4,
 "nbformat_minor": 2
}
