{
 "cells": [
  {
   "cell_type": "code",
   "execution_count": 1,
   "metadata": {},
   "outputs": [],
   "source": [
    "import json\n",
    "import pandas as pd\n",
    "import os"
   ]
  },
  {
   "cell_type": "code",
   "execution_count": 2,
   "metadata": {},
   "outputs": [],
   "source": [
    "targ_lang = \"deu\" #cze, deu, fra ,ron\n",
    "filetype = \"c4\"\n",
    "target_folder = f\"alternative_data/c4/source_excel_c4\""
   ]
  },
  {
   "cell_type": "code",
   "execution_count": 3,
   "metadata": {},
   "outputs": [],
   "source": [
    "with open(f\"alternative_data/c4_augmented.json\", \"r\") as f:\n",
    "    sentences = json.load(f)\n",
    "\n",
    "real_sentences = []\n",
    "temp_ids = set()\n",
    "for sent in sentences:\n",
    "    if sent[\"sentence_id\"] not in temp_ids:\n",
    "        temp_ids.add(sent[\"sentence_id\"])\n",
    "        real_sentences.append({\"sentence\":sent[\"masked_sentence\"].replace(\"[MASK]\", sent[\"word\"]),\n",
    "                              \"sentence_id\": sent[\"sentence_id\"],\n",
    "                              \"word_id\": -1,\n",
    "                              \"probability\": 0})\n",
    "\n",
    "for sent in sentences:\n",
    "    ct = 0\n",
    "    for rep in sent[\"replacement\"]:\n",
    "        if rep[\"word\"].strip().lower()!=sent[\"word\"].lower():\n",
    "            ct+=1\n",
    "            real_sentences.append({\"sentence\":sent[\"masked_sentence\"].replace(\"[MASK]\", rep[\"word\"].strip()),\n",
    "                                  \"sentence_id\": sent[\"sentence_id\"],\n",
    "                                  \"word_id\": sent[\"word_id\"],\n",
    "                                  \"probability\": rep[\"prob\"]})\n",
    "selected_sentences = sorted(real_sentences, key=lambda d: (d['sentence_id'], d[\"word_id\"])) "
   ]
  },
  {
   "cell_type": "code",
   "execution_count": null,
   "metadata": {},
   "outputs": [],
   "source": []
  },
  {
   "cell_type": "code",
   "execution_count": 4,
   "metadata": {},
   "outputs": [
    {
     "name": "stdout",
     "output_type": "stream",
     "text": [
      "[Errno 2] No such file or directory: 'alternative_data/c4/source_excel_c4/53.xlsx'\n",
      "Breaking at 53\n"
     ]
    }
   ],
   "source": [
    "df_en = pd.DataFrame([])\n",
    "i = 0\n",
    "while True:\n",
    "    try:\n",
    "        df_temp = pd.read_excel(f\"{target_folder}/{i}.xlsx\", header=None)\n",
    "    except Exception as e:\n",
    "        print(e)\n",
    "        print(f\"Breaking at {i}\")\n",
    "        break\n",
    "    df_en = pd.concat([df_en, df_temp])\n",
    "    i+=1"
   ]
  },
  {
   "cell_type": "code",
   "execution_count": 5,
   "metadata": {},
   "outputs": [
    {
     "data": {
      "text/plain": [
       "4118806"
      ]
     },
     "execution_count": 5,
     "metadata": {},
     "output_type": "execute_result"
    }
   ],
   "source": [
    "len(df_en) "
   ]
  },
  {
   "cell_type": "code",
   "execution_count": 6,
   "metadata": {},
   "outputs": [
    {
     "name": "stdout",
     "output_type": "stream",
     "text": [
      "[Errno 2] No such file or directory: 'alternative_data/c4/source_excel_c4_deu/53_deu.xlsx'\n",
      "Breaking at 53\n"
     ]
    }
   ],
   "source": [
    "df = pd.DataFrame([])\n",
    "i=0\n",
    "while True:\n",
    "    try:\n",
    "        df_temp = pd.read_excel(f\"{target_folder}_{targ_lang}/{i}_{targ_lang}.xlsx\", header=None)\n",
    "    except Exception as e:\n",
    "        print(e)\n",
    "        print(f\"Breaking at {i}\")\n",
    "        break\n",
    "    df = pd.concat([df, df_temp])\n",
    "    i+=1"
   ]
  },
  {
   "cell_type": "code",
   "execution_count": 7,
   "metadata": {},
   "outputs": [
    {
     "data": {
      "text/plain": [
       "4118806"
      ]
     },
     "execution_count": 7,
     "metadata": {},
     "output_type": "execute_result"
    }
   ],
   "source": [
    "len(df)"
   ]
  },
  {
   "cell_type": "code",
   "execution_count": 8,
   "metadata": {},
   "outputs": [],
   "source": [
    "df = df.reset_index(drop=True)"
   ]
  },
  {
   "cell_type": "code",
   "execution_count": 9,
   "metadata": {},
   "outputs": [],
   "source": [
    "import re, string\n",
    "target_sentences = [\n",
    "re.sub(r\"\\s+\", r\" \", re.sub(r'([{}])'.format(\"”“!\\\"#$%&()*+,-./:;<=>?@[\\\\]^_`{|}~\"), r' \\1 ',str(x).strip()))\n",
    "    for x in df[0].tolist()]"
   ]
  },
  {
   "cell_type": "code",
   "execution_count": 10,
   "metadata": {},
   "outputs": [
    {
     "data": {
      "text/plain": [
       "(4118806, 4118806, 4118806, 4118806)"
      ]
     },
     "execution_count": 10,
     "metadata": {},
     "output_type": "execute_result"
    }
   ],
   "source": [
    "len(selected_sentences), len(target_sentences), len(df), len(df_en)"
   ]
  },
  {
   "cell_type": "code",
   "execution_count": 11,
   "metadata": {},
   "outputs": [
    {
     "data": {
      "text/plain": [
       "['30 . Oktober 2017 • Mancari bietet Geschichten vom Wandern und Heimkommen , gefärbt von der Entschlossenheit , künstlerisch jenseits der Geschlechtergrenzen zu leben , die normalerweise Künstlerinnen auferlegt werden . ',\n",
       " '30 . September 2017 • Mancari bietet Geschichten vom Wandern und Heimkommen , gefärbt von der Entschlossenheit , künstlerisch jenseits der Geschlechtergrenzen zu leben , die normalerweise Künstlerinnen auferlegt werden . ',\n",
       " '30 . Juni 2017 • Mancari bietet Geschichten von Wanderschaft und Heimkehr , geprägt von der Entschlossenheit , künstlerisch jenseits der Geschlechtergrenzen zu leben , die normalerweise Künstlerinnen auferlegt werden . ']"
      ]
     },
     "execution_count": 11,
     "metadata": {},
     "output_type": "execute_result"
    }
   ],
   "source": [
    "target_sentences[:3]"
   ]
  },
  {
   "cell_type": "code",
   "execution_count": 12,
   "metadata": {
    "scrolled": true
   },
   "outputs": [
    {
     "data": {
      "text/plain": [
       "[{'sentence': 'October 30, 2017 \\x95 Mancari offers stories of wandering and homecoming, colored by a determination to live, artistically, beyond the gender boundaries usually imposed on female artists.',\n",
       "  'sentence_id': 0,\n",
       "  'word_id': -1,\n",
       "  'probability': 0},\n",
       " {'sentence': 'September 30, 2017 \\x95 Mancari offers stories of wandering and homecoming, colored by a determination to live, artistically, beyond the gender boundaries usually imposed on female artists.',\n",
       "  'sentence_id': 0,\n",
       "  'word_id': 0,\n",
       "  'probability': 0.136},\n",
       " {'sentence': 'June 30, 2017 \\x95 Mancari offers stories of wandering and homecoming, colored by a determination to live, artistically, beyond the gender boundaries usually imposed on female artists.',\n",
       "  'sentence_id': 0,\n",
       "  'word_id': 0,\n",
       "  'probability': 0.12}]"
      ]
     },
     "execution_count": 12,
     "metadata": {},
     "output_type": "execute_result"
    }
   ],
   "source": [
    "selected_sentences[:3]"
   ]
  },
  {
   "cell_type": "code",
   "execution_count": 13,
   "metadata": {},
   "outputs": [
    {
     "data": {
      "text/plain": [
       "{'sentence': 'October 30, 2017 \\x95 Mancari offers stories of wandering and homecoming, colored by a determination to live, artistically, beyond the gender boundaries usually imposed on female artists.',\n",
       " 'sentence_id': 0,\n",
       " 'word_id': -1,\n",
       " 'probability': 0}"
      ]
     },
     "execution_count": 13,
     "metadata": {},
     "output_type": "execute_result"
    }
   ],
   "source": [
    "selected_sentences[0]"
   ]
  },
  {
   "cell_type": "code",
   "execution_count": 14,
   "metadata": {},
   "outputs": [],
   "source": [
    "for el, ts in zip(selected_sentences, target_sentences):\n",
    "    el[\"translated_sentences\"] = ts"
   ]
  },
  {
   "cell_type": "code",
   "execution_count": 15,
   "metadata": {},
   "outputs": [
    {
     "data": {
      "text/plain": [
       "{'sentence': 'June 30, 2017 \\x95 Mancari offers stories of wandering and homecoming, colored by a determination to live, artistically, beyond the gender boundaries usually imposed on female artists.',\n",
       " 'sentence_id': 0,\n",
       " 'word_id': 0,\n",
       " 'probability': 0.12,\n",
       " 'translated_sentences': '30 . Juni 2017 • Mancari bietet Geschichten von Wanderschaft und Heimkehr , geprägt von der Entschlossenheit , künstlerisch jenseits der Geschlechtergrenzen zu leben , die normalerweise Künstlerinnen auferlegt werden . '}"
      ]
     },
     "execution_count": 15,
     "metadata": {},
     "output_type": "execute_result"
    }
   ],
   "source": [
    "selected_sentences[2]"
   ]
  },
  {
   "cell_type": "code",
   "execution_count": 16,
   "metadata": {},
   "outputs": [],
   "source": [
    "with open(f\"alternative_data/c4/{targ_lang}_translated_pairs.json\", \"w\") as f:\n",
    "    json.dump(selected_sentences, f)"
   ]
  },
  {
   "cell_type": "code",
   "execution_count": null,
   "metadata": {},
   "outputs": [],
   "source": []
  },
  {
   "cell_type": "code",
   "execution_count": null,
   "metadata": {},
   "outputs": [],
   "source": []
  },
  {
   "cell_type": "code",
   "execution_count": 1,
   "metadata": {},
   "outputs": [
    {
     "name": "stdout",
     "output_type": "stream",
     "text": [
      "[Errno 2] No such file or directory: 'alternative_data/c4/source_excel_c4/53.xlsx'\n",
      "Breaking at 53\n",
      "[Errno 2] No such file or directory: 'alternative_data/c4/source_excel_c4_ron/53_ron.xlsx'\n",
      "Breaking at 53\n"
     ]
    }
   ],
   "source": [
    "import json\n",
    "import pandas as pd\n",
    "import os\n",
    "\n",
    "targ_lang = \"ron\" #cze, deu, fra ,ron\n",
    "filetype = \"c4\"\n",
    "target_folder = f\"alternative_data/c4/source_excel_c4\"\n",
    "\n",
    "with open(f\"alternative_data/c4_augmented.json\", \"r\") as f:\n",
    "    sentences = json.load(f)\n",
    "\n",
    "real_sentences = []\n",
    "temp_ids = set()\n",
    "for sent in sentences:\n",
    "    if sent[\"sentence_id\"] not in temp_ids:\n",
    "        temp_ids.add(sent[\"sentence_id\"])\n",
    "        real_sentences.append({\"sentence\":sent[\"masked_sentence\"].replace(\"[MASK]\", sent[\"word\"]),\n",
    "                              \"sentence_id\": sent[\"sentence_id\"],\n",
    "                              \"word_id\": -1,\n",
    "                              \"probability\": 0})\n",
    "\n",
    "for sent in sentences:\n",
    "    ct = 0\n",
    "    for rep in sent[\"replacement\"]:\n",
    "        if rep[\"word\"].strip().lower()!=sent[\"word\"].lower():\n",
    "            ct+=1\n",
    "            real_sentences.append({\"sentence\":sent[\"masked_sentence\"].replace(\"[MASK]\", rep[\"word\"].strip()),\n",
    "                                  \"sentence_id\": sent[\"sentence_id\"],\n",
    "                                  \"word_id\": sent[\"word_id\"],\n",
    "                                  \"probability\": rep[\"prob\"]})\n",
    "selected_sentences = sorted(real_sentences, key=lambda d: (d['sentence_id'], d[\"word_id\"])) \n",
    "\n",
    "\n",
    "\n",
    "df_en = pd.DataFrame([])\n",
    "i = 0\n",
    "while True:\n",
    "    try:\n",
    "        df_temp = pd.read_excel(f\"{target_folder}/{i}.xlsx\", header=None)\n",
    "    except Exception as e:\n",
    "        print(e)\n",
    "        print(f\"Breaking at {i}\")\n",
    "        break\n",
    "    df_en = pd.concat([df_en, df_temp])\n",
    "    i+=1\n",
    "\n",
    "len(df_en) \n",
    "\n",
    "df = pd.DataFrame([])\n",
    "i=0\n",
    "while True:\n",
    "    try:\n",
    "        df_temp = pd.read_excel(f\"{target_folder}_{targ_lang}/{i}_{targ_lang}.xlsx\", header=None)\n",
    "    except Exception as e:\n",
    "        print(e)\n",
    "        print(f\"Breaking at {i}\")\n",
    "        break\n",
    "    df = pd.concat([df, df_temp])\n",
    "    i+=1\n",
    "\n",
    "len(df)\n",
    "\n",
    "df = df.reset_index(drop=True)\n",
    "\n",
    "import re, string\n",
    "target_sentences = [\n",
    "re.sub(r\"\\s+\", r\" \", re.sub(r'([{}])'.format(\"”“!\\\"#$%&()*+,-./:;<=>?@[\\\\]^_`{|}~\"), r' \\1 ',str(x).strip()))\n",
    "    for x in df[0].tolist()]\n",
    "\n",
    "len(selected_sentences), len(target_sentences), len(df), len(df_en)\n",
    "\n",
    "target_sentences[:3]\n",
    "\n",
    "selected_sentences[:3]\n",
    "\n",
    "selected_sentences[0]\n",
    "\n",
    "for el, ts in zip(selected_sentences, target_sentences):\n",
    "    el[\"translated_sentences\"] = ts\n",
    "\n",
    "selected_sentences[2]\n",
    "\n",
    "with open(f\"alternative_data/c4/{targ_lang}_translated_pairs.json\", \"w\") as f:\n",
    "    json.dump(selected_sentences, f)"
   ]
  },
  {
   "cell_type": "code",
   "execution_count": 2,
   "metadata": {},
   "outputs": [
    {
     "name": "stdout",
     "output_type": "stream",
     "text": [
      "[Errno 2] No such file or directory: 'alternative_data/c4/source_excel_c4/53.xlsx'\n",
      "Breaking at 53\n",
      "[Errno 2] No such file or directory: 'alternative_data/c4/source_excel_c4_fra/53_fra.xlsx'\n",
      "Breaking at 53\n"
     ]
    }
   ],
   "source": [
    "import json\n",
    "import pandas as pd\n",
    "import os\n",
    "\n",
    "targ_lang = \"fra\" #cze, deu, fra ,ron\n",
    "filetype = \"c4\"\n",
    "target_folder = f\"alternative_data/c4/source_excel_c4\"\n",
    "\n",
    "with open(f\"alternative_data/c4_augmented.json\", \"r\") as f:\n",
    "    sentences = json.load(f)\n",
    "\n",
    "real_sentences = []\n",
    "temp_ids = set()\n",
    "for sent in sentences:\n",
    "    if sent[\"sentence_id\"] not in temp_ids:\n",
    "        temp_ids.add(sent[\"sentence_id\"])\n",
    "        real_sentences.append({\"sentence\":sent[\"masked_sentence\"].replace(\"[MASK]\", sent[\"word\"]),\n",
    "                              \"sentence_id\": sent[\"sentence_id\"],\n",
    "                              \"word_id\": -1,\n",
    "                              \"probability\": 0})\n",
    "\n",
    "for sent in sentences:\n",
    "    ct = 0\n",
    "    for rep in sent[\"replacement\"]:\n",
    "        if rep[\"word\"].strip().lower()!=sent[\"word\"].lower():\n",
    "            ct+=1\n",
    "            real_sentences.append({\"sentence\":sent[\"masked_sentence\"].replace(\"[MASK]\", rep[\"word\"].strip()),\n",
    "                                  \"sentence_id\": sent[\"sentence_id\"],\n",
    "                                  \"word_id\": sent[\"word_id\"],\n",
    "                                  \"probability\": rep[\"prob\"]})\n",
    "selected_sentences = sorted(real_sentences, key=lambda d: (d['sentence_id'], d[\"word_id\"])) \n",
    "\n",
    "\n",
    "\n",
    "df_en = pd.DataFrame([])\n",
    "i = 0\n",
    "while True:\n",
    "    try:\n",
    "        df_temp = pd.read_excel(f\"{target_folder}/{i}.xlsx\", header=None)\n",
    "    except Exception as e:\n",
    "        print(e)\n",
    "        print(f\"Breaking at {i}\")\n",
    "        break\n",
    "    df_en = pd.concat([df_en, df_temp])\n",
    "    i+=1\n",
    "\n",
    "len(df_en) \n",
    "\n",
    "df = pd.DataFrame([])\n",
    "i=0\n",
    "while True:\n",
    "    try:\n",
    "        df_temp = pd.read_excel(f\"{target_folder}_{targ_lang}/{i}_{targ_lang}.xlsx\", header=None)\n",
    "    except Exception as e:\n",
    "        print(e)\n",
    "        print(f\"Breaking at {i}\")\n",
    "        break\n",
    "    df = pd.concat([df, df_temp])\n",
    "    i+=1\n",
    "\n",
    "len(df)\n",
    "\n",
    "df = df.reset_index(drop=True)\n",
    "\n",
    "import re, string\n",
    "target_sentences = [\n",
    "re.sub(r\"\\s+\", r\" \", re.sub(r'([{}])'.format(\"”“!\\\"#$%&()*+,-./:;<=>?@[\\\\]^_`{|}~\"), r' \\1 ',str(x).strip()))\n",
    "    for x in df[0].tolist()]\n",
    "\n",
    "len(selected_sentences), len(target_sentences), len(df), len(df_en)\n",
    "\n",
    "target_sentences[:3]\n",
    "\n",
    "selected_sentences[:3]\n",
    "\n",
    "selected_sentences[0]\n",
    "\n",
    "for el, ts in zip(selected_sentences, target_sentences):\n",
    "    el[\"translated_sentences\"] = ts\n",
    "\n",
    "selected_sentences[2]\n",
    "\n",
    "with open(f\"alternative_data/c4/{targ_lang}_translated_pairs.json\", \"w\") as f:\n",
    "    json.dump(selected_sentences, f)"
   ]
  },
  {
   "cell_type": "code",
   "execution_count": null,
   "metadata": {},
   "outputs": [],
   "source": []
  }
 ],
 "metadata": {
  "kernelspec": {
   "display_name": "Python 3",
   "language": "python",
   "name": "python3"
  },
  "language_info": {
   "codemirror_mode": {
    "name": "ipython",
    "version": 3
   },
   "file_extension": ".py",
   "mimetype": "text/x-python",
   "name": "python",
   "nbconvert_exporter": "python",
   "pygments_lexer": "ipython3",
   "version": "3.8.1"
  }
 },
 "nbformat": 4,
 "nbformat_minor": 2
}
