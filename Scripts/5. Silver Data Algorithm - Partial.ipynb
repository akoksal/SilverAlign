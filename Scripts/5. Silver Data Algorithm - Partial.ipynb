{
 "cells": [
  {
   "cell_type": "code",
   "execution_count": 33,
   "metadata": {},
   "outputs": [],
   "source": [
    "import pandas as pd\n",
    "from collections import defaultdict\n",
    "import numpy as np\n",
    "from tqdm import tqdm\n",
    "import json"
   ]
  },
  {
   "cell_type": "code",
   "execution_count": 34,
   "metadata": {},
   "outputs": [],
   "source": [
    "# eng_cze\n",
    "# eng_deu\n",
    "# eng_fra\n",
    "# eng_hin\n",
    "# eng_per\n",
    "# eng_ron\n",
    "# eng_tur"
   ]
  },
  {
   "cell_type": "code",
   "execution_count": 47,
   "metadata": {},
   "outputs": [],
   "source": [
    "lang_pair = \"fin_heb\"\n",
    "filetype = \"gold\" # parallel_sample | gold\n",
    "target_folder = \"silver_data_from_gold\"\n",
    "\n",
    "# filetype = \"parallel_sample\" # parallel_sample | gold\n",
    "# target_folder = \"silver_data_from_parallel\"\n",
    "df = pd.read_json(f\"alternative_data/{lang_pair}/{filetype}_translated_pairs.json\")"
   ]
  },
  {
   "cell_type": "code",
   "execution_count": 48,
   "metadata": {},
   "outputs": [
    {
     "data": {
      "text/html": [
       "<div>\n",
       "<style scoped>\n",
       "    .dataframe tbody tr th:only-of-type {\n",
       "        vertical-align: middle;\n",
       "    }\n",
       "\n",
       "    .dataframe tbody tr th {\n",
       "        vertical-align: top;\n",
       "    }\n",
       "\n",
       "    .dataframe thead th {\n",
       "        text-align: right;\n",
       "    }\n",
       "</style>\n",
       "<table border=\"1\" class=\"dataframe\">\n",
       "  <thead>\n",
       "    <tr style=\"text-align: right;\">\n",
       "      <th></th>\n",
       "      <th>sentence</th>\n",
       "      <th>sentence_id</th>\n",
       "      <th>word_id</th>\n",
       "      <th>probability</th>\n",
       "      <th>translated_sentences</th>\n",
       "    </tr>\n",
       "  </thead>\n",
       "  <tbody>\n",
       "    <tr>\n",
       "      <th>0</th>\n",
       "      <td>Salomon , Daavidin pojan , Israelin kuninkaan ...</td>\n",
       "      <td>0</td>\n",
       "      <td>-1</td>\n",
       "      <td>0.000</td>\n",
       "      <td>שלמה בן דוד מלך ישראל משלי</td>\n",
       "    </tr>\n",
       "    <tr>\n",
       "      <th>1</th>\n",
       "      <td>Daavidin , Daavidin pojan , Israelin kuninkaan...</td>\n",
       "      <td>0</td>\n",
       "      <td>0</td>\n",
       "      <td>0.621</td>\n",
       "      <td>משלי דוד בן דוד מלך ישראל</td>\n",
       "    </tr>\n",
       "    <tr>\n",
       "      <th>2</th>\n",
       "      <td>Jeesuksen , Daavidin pojan , Israelin kuninkaa...</td>\n",
       "      <td>0</td>\n",
       "      <td>0</td>\n",
       "      <td>0.171</td>\n",
       "      <td>משלי ישוע בן דוד מלך ישראל</td>\n",
       "    </tr>\n",
       "    <tr>\n",
       "      <th>3</th>\n",
       "      <td>Jumalan , Daavidin pojan , Israelin kuninkaan ...</td>\n",
       "      <td>0</td>\n",
       "      <td>0</td>\n",
       "      <td>0.063</td>\n",
       "      <td>משלי אלהים בן דוד מלך ישראל</td>\n",
       "    </tr>\n",
       "    <tr>\n",
       "      <th>4</th>\n",
       "      <td>Mooseksen , Daavidin pojan , Israelin kuninkaa...</td>\n",
       "      <td>0</td>\n",
       "      <td>0</td>\n",
       "      <td>0.061</td>\n",
       "      <td>משלי משה בן דוד מלך ישראל</td>\n",
       "    </tr>\n",
       "    <tr>\n",
       "      <th>...</th>\n",
       "      <td>...</td>\n",
       "      <td>...</td>\n",
       "      <td>...</td>\n",
       "      <td>...</td>\n",
       "      <td>...</td>\n",
       "    </tr>\n",
       "    <tr>\n",
       "      <th>2128756</th>\n",
       "      <td>Hän sai panna pois vangin puvun ja aina aterio...</td>\n",
       "      <td>22290</td>\n",
       "      <td>15</td>\n",
       "      <td>0.031</td>\n",
       "      <td>הותר לו לפשוט את חליפת האסיר ולסעוד תמיד במקומ...</td>\n",
       "    </tr>\n",
       "    <tr>\n",
       "      <th>2128757</th>\n",
       "      <td>Hän sai panna pois vangin puvun ja aina aterio...</td>\n",
       "      <td>22290</td>\n",
       "      <td>16</td>\n",
       "      <td>0.005</td>\n",
       "      <td>הותר לו לדחות את חליפת האסיר ולסעוד עמו תמיד ,...</td>\n",
       "    </tr>\n",
       "    <tr>\n",
       "      <th>2128758</th>\n",
       "      <td>Hän sai panna pois vangin puvun ja aina aterio...</td>\n",
       "      <td>22290</td>\n",
       "      <td>16</td>\n",
       "      <td>0.004</td>\n",
       "      <td>הותר לו לפשוט את חליפת האסיר ולסעוד עמו תמיד ,...</td>\n",
       "    </tr>\n",
       "    <tr>\n",
       "      <th>2128759</th>\n",
       "      <td>Hän sai panna pois vangin puvun ja aina aterio...</td>\n",
       "      <td>22290</td>\n",
       "      <td>16</td>\n",
       "      <td>0.002</td>\n",
       "      <td>הותר לו לדחות את חליפת האסיר ולסעוד עמו תמיד ,...</td>\n",
       "    </tr>\n",
       "    <tr>\n",
       "      <th>2128760</th>\n",
       "      <td>Hän sai panna pois vangin puvun ja aina aterio...</td>\n",
       "      <td>22290</td>\n",
       "      <td>16</td>\n",
       "      <td>0.001</td>\n",
       "      <td>הותר לו לדחות את חליפת האסיר ולסעוד איתו תמיד ...</td>\n",
       "    </tr>\n",
       "  </tbody>\n",
       "</table>\n",
       "<p>2128761 rows × 5 columns</p>\n",
       "</div>"
      ],
      "text/plain": [
       "                                                  sentence  sentence_id  \\\n",
       "0        Salomon , Daavidin pojan , Israelin kuninkaan ...            0   \n",
       "1        Daavidin , Daavidin pojan , Israelin kuninkaan...            0   \n",
       "2        Jeesuksen , Daavidin pojan , Israelin kuninkaa...            0   \n",
       "3        Jumalan , Daavidin pojan , Israelin kuninkaan ...            0   \n",
       "4        Mooseksen , Daavidin pojan , Israelin kuninkaa...            0   \n",
       "...                                                    ...          ...   \n",
       "2128756  Hän sai panna pois vangin puvun ja aina aterio...        22290   \n",
       "2128757  Hän sai panna pois vangin puvun ja aina aterio...        22290   \n",
       "2128758  Hän sai panna pois vangin puvun ja aina aterio...        22290   \n",
       "2128759  Hän sai panna pois vangin puvun ja aina aterio...        22290   \n",
       "2128760  Hän sai panna pois vangin puvun ja aina aterio...        22290   \n",
       "\n",
       "         word_id  probability  \\\n",
       "0             -1        0.000   \n",
       "1              0        0.621   \n",
       "2              0        0.171   \n",
       "3              0        0.063   \n",
       "4              0        0.061   \n",
       "...          ...          ...   \n",
       "2128756       15        0.031   \n",
       "2128757       16        0.005   \n",
       "2128758       16        0.004   \n",
       "2128759       16        0.002   \n",
       "2128760       16        0.001   \n",
       "\n",
       "                                      translated_sentences  \n",
       "0                               שלמה בן דוד מלך ישראל משלי  \n",
       "1                                משלי דוד בן דוד מלך ישראל  \n",
       "2                               משלי ישוע בן דוד מלך ישראל  \n",
       "3                              משלי אלהים בן דוד מלך ישראל  \n",
       "4                                משלי משה בן דוד מלך ישראל  \n",
       "...                                                    ...  \n",
       "2128756  הותר לו לפשוט את חליפת האסיר ולסעוד תמיד במקומ...  \n",
       "2128757  הותר לו לדחות את חליפת האסיר ולסעוד עמו תמיד ,...  \n",
       "2128758  הותר לו לפשוט את חליפת האסיר ולסעוד עמו תמיד ,...  \n",
       "2128759  הותר לו לדחות את חליפת האסיר ולסעוד עמו תמיד ,...  \n",
       "2128760  הותר לו לדחות את חליפת האסיר ולסעוד איתו תמיד ...  \n",
       "\n",
       "[2128761 rows x 5 columns]"
      ]
     },
     "execution_count": 48,
     "metadata": {},
     "output_type": "execute_result"
    }
   ],
   "source": [
    "df"
   ]
  },
  {
   "cell_type": "code",
   "execution_count": 49,
   "metadata": {},
   "outputs": [],
   "source": [
    "def which_words_changed(sent1, sent2):\n",
    "    if len(sent1.split())!=len(sent2.split()):\n",
    "        return [1]*len(sent1.split())\n",
    "    else:\n",
    "        x = []\n",
    "        for a, b in zip(sent1.split(), sent2.split()):\n",
    "            x.append(int(a!=b))\n",
    "        return x"
   ]
  },
  {
   "cell_type": "code",
   "execution_count": 50,
   "metadata": {
    "scrolled": true
   },
   "outputs": [
    {
     "name": "stderr",
     "output_type": "stream",
     "text": [
      "100%|██████████| 22291/22291 [15:04<00:00, 24.63it/s]\n"
     ]
    }
   ],
   "source": [
    "final_data = []\n",
    "sentence_ids = list(set(df[\"sentence_id\"]))\n",
    "for sentence_id in tqdm(sentence_ids):\n",
    "    sub_df = df.query(f\"sentence_id=={sentence_id}\")\n",
    "\n",
    "    source_sentence = sub_df.query(\"word_id==-1\")[\"sentence\"].iloc[0]\n",
    "    target_sentence = sub_df.query(\"word_id==-1\")[\"translated_sentences\"].iloc[0]\n",
    "\n",
    "    ch = defaultdict(list)\n",
    "\n",
    "    for word_id in range(0, max(sub_df[\"word_id\"])+1):\n",
    "        elements = sub_df.query(f\"word_id=={word_id}\").to_dict(orient=\"records\")\n",
    "        changed_s_sentences = [x[\"sentence\"] for x in elements]\n",
    "        changed_t_sentences = [x[\"translated_sentences\"] for x in elements]\n",
    "        for changed_s_sentence, changed_t_sentence in zip(changed_s_sentences, changed_t_sentences):\n",
    "            changed_words = which_words_changed(target_sentence, changed_t_sentence)\n",
    "            if len(changed_words)!=sum(changed_words):\n",
    "                ch[word_id].append(changed_words)\n",
    "    alignment = []\n",
    "    for source_word_id in ch:\n",
    "        temp_alignment = defaultdict(int)\n",
    "        total = len(ch[source_word_id])\n",
    "        for one_al in ch[source_word_id]:\n",
    "            for target_word_id, el in enumerate(one_al):\n",
    "                if el==1:\n",
    "                    temp_alignment[(source_word_id, target_word_id)]+=1\n",
    "        for x in temp_alignment:\n",
    "            alignment.append({\"source_word_id\":x[0], \"target_word_id\":x[1], \"freq\":temp_alignment[x], \"total\":total})\n",
    "            \n",
    "    \n",
    "    final_data.append({\"source_sentence\": source_sentence,\n",
    "                       \"target_sentence\": target_sentence,\n",
    "                       \"alignment\": alignment,\n",
    "                       \"sentence_id\": sentence_id})"
   ]
  },
  {
   "cell_type": "markdown",
   "metadata": {},
   "source": [
    "## Creating Silver Data"
   ]
  },
  {
   "cell_type": "code",
   "execution_count": 51,
   "metadata": {},
   "outputs": [],
   "source": [
    "import os"
   ]
  },
  {
   "cell_type": "code",
   "execution_count": 52,
   "metadata": {},
   "outputs": [],
   "source": [
    "en_sentences = df.query(\"word_id==-1\")[\"sentence\"].tolist()\n",
    "target_sentences = df.query(\"word_id==-1\")[\"translated_sentences\"].tolist()"
   ]
  },
  {
   "cell_type": "code",
   "execution_count": 53,
   "metadata": {},
   "outputs": [],
   "source": [
    "os.makedirs(f\"{target_folder}/{lang_pair}\", exist_ok=True)"
   ]
  },
  {
   "cell_type": "code",
   "execution_count": 54,
   "metadata": {},
   "outputs": [],
   "source": [
    "source_gold_sentences = []\n",
    "target_gold_sentences = []\n",
    "r = []\n",
    "for el in final_data:\n",
    "    r.append(len([x for x in el[\"alignment\"] if x[\"freq\"]==x[\"total\"] and x[\"total\"]>1])/len(el[\"source_sentence\"].split()))\n",
    "    source_gold_sentences.append(el[\"source_sentence\"])\n",
    "    target_gold_sentences.append(el[\"target_sentence\"])"
   ]
  },
  {
   "cell_type": "code",
   "execution_count": 55,
   "metadata": {},
   "outputs": [
    {
     "data": {
      "text/plain": [
       "[Text(0.5, 1.0, 'Silver Data Alignment Ratio (Normalized by Word Count)'),\n",
       " Text(0.5, 0, 'Ratio')]"
      ]
     },
     "execution_count": 55,
     "metadata": {},
     "output_type": "execute_result"
    },
    {
     "data": {
      "image/png": "[encoded data removed]",
      "text/plain": [
       "<Figure size 432x288 with 1 Axes>"
      ]
     },
     "metadata": {
      "needs_background": "light"
     },
     "output_type": "display_data"
    }
   ],
   "source": [
    "import seaborn as sns\n",
    "sns.histplot(r).set(title=\"Silver Data Alignment Ratio (Normalized by Word Count)\", xlabel=\"Ratio\")"
   ]
  },
  {
   "cell_type": "code",
   "execution_count": 56,
   "metadata": {},
   "outputs": [],
   "source": [
    "with open(f\"{target_folder}/{lang_pair}/gold.json\", \"w\") as f:\n",
    "    json.dump(final_data, f)"
   ]
  },
  {
   "cell_type": "code",
   "execution_count": 57,
   "metadata": {},
   "outputs": [],
   "source": [
    "temp_gold = {}\n",
    "gold = {}\n",
    "for idx, x in enumerate(final_data):\n",
    "    temp_gold[idx] = defaultdict(list)\n",
    "    multi_keys = set()\n",
    "    for el in x[\"alignment\"]:\n",
    "        temp_gold[idx][el[\"source_word_id\"]].append(el[\"target_word_id\"])\n",
    "        if len(temp_gold[idx][el[\"source_word_id\"]])>1:\n",
    "            multi_keys.add(el[\"source_word_id\"])\n",
    "    for el in multi_keys:\n",
    "        del temp_gold[idx][el]\n",
    "\n",
    "\n",
    "for idx, x in enumerate(final_data):\n",
    "    gold[idx] = defaultdict(list)\n",
    "    for el in x[\"alignment\"]:\n",
    "        if el[\"freq\"]==el[\"total\"] & el[\"total\"]>3 and el[\"source_word_id\"] in temp_gold[idx] and\\\n",
    "            el[\"target_word_id\"] in temp_gold[idx][el[\"source_word_id\"]]:\n",
    "            gold[idx][el[\"source_word_id\"]].append(el[\"target_word_id\"])"
   ]
  },
  {
   "cell_type": "code",
   "execution_count": 60,
   "metadata": {},
   "outputs": [],
   "source": [
    "empty = 0\n",
    "with open(f\"{target_folder}/{lang_pair}/gold.txt\", \"w\") as f, open(f\"{target_folder}/{lang_pair}/{lang_pair}.txt\", \"w\") as fg:\n",
    "    idx = 0\n",
    "    for el in gold:\n",
    "        text = f\"{idx}\\t\"\n",
    "        found = False\n",
    "        for sw_id in gold[el]:\n",
    "            for tw_id in gold[el][sw_id]:\n",
    "                text+= f\"{sw_id}-{tw_id} \"\n",
    "                found = True\n",
    "        if found:\n",
    "            f.write(text+\"\\n\")\n",
    "            fg.write(source_gold_sentences[el]+\" ||| \"+target_gold_sentences[el]+\"\\n\")\n",
    "            idx+=1\n",
    "        else:\n",
    "            empty+=1"
   ]
  },
  {
   "cell_type": "code",
   "execution_count": 61,
   "metadata": {},
   "outputs": [
    {
     "data": {
      "text/plain": [
       "17769"
      ]
     },
     "execution_count": 61,
     "metadata": {},
     "output_type": "execute_result"
    }
   ],
   "source": [
    "empty"
   ]
  },
  {
   "cell_type": "code",
   "execution_count": 1,
   "metadata": {},
   "outputs": [
    {
     "name": "stdout",
     "output_type": "stream",
     "text": [
      "eng_cze gold silver_data_from_gold_relaxed\n"
     ]
    },
    {
     "name": "stderr",
     "output_type": "stream",
     "text": [
      "100%|██████████| 2501/2501 [01:39<00:00, 25.25it/s]\n"
     ]
    },
    {
     "name": "stdout",
     "output_type": "stream",
     "text": [
      "eng_deu gold silver_data_from_gold_relaxed\n"
     ]
    },
    {
     "name": "stderr",
     "output_type": "stream",
     "text": [
      "100%|██████████| 508/508 [00:17<00:00, 29.78it/s]\n"
     ]
    },
    {
     "name": "stdout",
     "output_type": "stream",
     "text": [
      "eng_fra gold silver_data_from_gold_relaxed\n"
     ]
    },
    {
     "name": "stderr",
     "output_type": "stream",
     "text": [
      "100%|██████████| 447/447 [00:11<00:00, 38.66it/s]\n"
     ]
    },
    {
     "name": "stdout",
     "output_type": "stream",
     "text": [
      "eng_hin gold silver_data_from_gold_relaxed\n"
     ]
    },
    {
     "name": "stderr",
     "output_type": "stream",
     "text": [
      "100%|██████████| 90/90 [00:02<00:00, 41.12it/s]\n"
     ]
    },
    {
     "name": "stdout",
     "output_type": "stream",
     "text": [
      "eng_per gold silver_data_from_gold_relaxed\n"
     ]
    },
    {
     "name": "stderr",
     "output_type": "stream",
     "text": [
      "100%|██████████| 400/400 [00:17<00:00, 22.74it/s]\n"
     ]
    },
    {
     "name": "stdout",
     "output_type": "stream",
     "text": [
      "eng_ron gold silver_data_from_gold_relaxed\n"
     ]
    },
    {
     "name": "stderr",
     "output_type": "stream",
     "text": [
      "100%|██████████| 199/199 [00:07<00:00, 26.89it/s]\n"
     ]
    },
    {
     "name": "stdout",
     "output_type": "stream",
     "text": [
      "eng_tur gold silver_data_from_gold_relaxed\n"
     ]
    },
    {
     "name": "stderr",
     "output_type": "stream",
     "text": [
      "100%|██████████| 100/100 [00:05<00:00, 18.24it/s]\n"
     ]
    },
    {
     "name": "stdout",
     "output_type": "stream",
     "text": [
      "fin_heb gold silver_data_from_gold_relaxed\n"
     ]
    },
    {
     "name": "stderr",
     "output_type": "stream",
     "text": [
      "100%|██████████| 22291/22291 [17:18<00:00, 21.45it/s]\n"
     ]
    },
    {
     "name": "stdout",
     "output_type": "stream",
     "text": [
      "fin_grc gold silver_data_from_gold_relaxed\n"
     ]
    },
    {
     "name": "stderr",
     "output_type": "stream",
     "text": [
      "100%|██████████| 7909/7909 [04:33<00:00, 28.87it/s]\n"
     ]
    },
    {
     "data": {
      "image/png": "[encoded data removed]",
      "text/plain": [
       "<Figure size 432x288 with 1 Axes>"
      ]
     },
     "metadata": {
      "needs_background": "light"
     },
     "output_type": "display_data"
    }
   ],
   "source": [
    "import pandas as pd\n",
    "from collections import defaultdict\n",
    "import numpy as np\n",
    "from tqdm import tqdm\n",
    "import json\n",
    "\n",
    "# eng_cze\n",
    "# eng_deu\n",
    "# eng_fra\n",
    "# eng_hin\n",
    "# eng_per\n",
    "# eng_ron\n",
    "# eng_tur\n",
    "\n",
    "for lang_pair in [\"eng_cze\", \"eng_deu\", \"eng_fra\", \"eng_hin\", \"eng_per\", \"eng_ron\", \"eng_tur\", \"fin_heb\", \"fin_grc\"]:\n",
    "    for filetype, target_folder in [(\"gold\", \"silver_data_from_gold_relaxed\")]:\n",
    "        print(lang_pair, filetype, target_folder)\n",
    "        df = pd.read_json(f\"alternative_data/{lang_pair}/{filetype}_translated_pairs.json\")\n",
    "\n",
    "        df\n",
    "\n",
    "        def which_words_changed(sent1, sent2):\n",
    "            if len(sent1.split())!=len(sent2.split()):\n",
    "                return [1]*len(sent1.split())\n",
    "            else:\n",
    "                x = []\n",
    "                for a, b in zip(sent1.split(), sent2.split()):\n",
    "                    x.append(int(a!=b))\n",
    "                return x\n",
    "\n",
    "        final_data = []\n",
    "        sentence_ids = list(set(df[\"sentence_id\"]))\n",
    "        for sentence_id in tqdm(sentence_ids):\n",
    "            sub_df = df.query(f\"sentence_id=={sentence_id}\")\n",
    "\n",
    "            source_sentence = sub_df.query(\"word_id==-1\")[\"sentence\"].iloc[0]\n",
    "            target_sentence = sub_df.query(\"word_id==-1\")[\"translated_sentences\"].iloc[0]\n",
    "\n",
    "            ch = defaultdict(list)\n",
    "\n",
    "            for word_id in range(0, max(sub_df[\"word_id\"])+1):\n",
    "                elements = sub_df.query(f\"word_id=={word_id}\").to_dict(orient=\"records\")\n",
    "                changed_s_sentences = [x[\"sentence\"] for x in elements]\n",
    "                changed_t_sentences = [x[\"translated_sentences\"] for x in elements]\n",
    "                for changed_s_sentence, changed_t_sentence in zip(changed_s_sentences, changed_t_sentences):\n",
    "                    changed_words = which_words_changed(target_sentence, changed_t_sentence)\n",
    "                    if len(changed_words)!=sum(changed_words):\n",
    "                        ch[word_id].append(changed_words)\n",
    "            alignment = []\n",
    "            for source_word_id in ch:\n",
    "                temp_alignment = defaultdict(int)\n",
    "                total = len(ch[source_word_id])\n",
    "                for one_al in ch[source_word_id]:\n",
    "                    for target_word_id, el in enumerate(one_al):\n",
    "                        if el==1:\n",
    "                            temp_alignment[(source_word_id, target_word_id)]+=1\n",
    "                for x in temp_alignment:\n",
    "                    alignment.append({\"source_word_id\":x[0], \"target_word_id\":x[1], \"freq\":temp_alignment[x], \"total\":total})\n",
    "\n",
    "\n",
    "            final_data.append({\"source_sentence\": source_sentence,\n",
    "                               \"target_sentence\": target_sentence,\n",
    "                               \"alignment\": alignment,\n",
    "                               \"sentence_id\": sentence_id})\n",
    "\n",
    "        ## Creating Silver Data\n",
    "\n",
    "        import os\n",
    "\n",
    "        en_sentences = df.query(\"word_id==-1\")[\"sentence\"].tolist()\n",
    "        target_sentences = df.query(\"word_id==-1\")[\"translated_sentences\"].tolist()\n",
    "\n",
    "        os.makedirs(f\"{target_folder}/{lang_pair}\", exist_ok=True)\n",
    "\n",
    "        source_gold_sentences = []\n",
    "        target_gold_sentences = []\n",
    "        r = []\n",
    "        for el in final_data:\n",
    "            r.append(len([x for x in el[\"alignment\"] if x[\"freq\"]==x[\"total\"] and x[\"total\"]>1])/len(el[\"source_sentence\"].split()))\n",
    "            source_gold_sentences.append(el[\"source_sentence\"])\n",
    "            target_gold_sentences.append(el[\"target_sentence\"])\n",
    "\n",
    "        import seaborn as sns\n",
    "        sns.histplot(r).set(title=\"Silver Data Alignment Ratio (Normalized by Word Count)\", xlabel=\"Ratio\")\n",
    "\n",
    "\n",
    "        with open(f\"{target_folder}/{lang_pair}/gold.json\", \"w\") as f:\n",
    "            json.dump(final_data, f)\n",
    "\n",
    "        temp_gold = {}\n",
    "        gold = {}\n",
    "        for idx, x in enumerate(final_data):\n",
    "            temp_gold[idx] = defaultdict(list)\n",
    "            multi_keys = set()\n",
    "            for el in x[\"alignment\"]:\n",
    "                temp_gold[idx][el[\"source_word_id\"]].append(el[\"target_word_id\"])\n",
    "                if len(temp_gold[idx][el[\"source_word_id\"]])>1:\n",
    "                    multi_keys.add(el[\"source_word_id\"])\n",
    "            for el in multi_keys:\n",
    "                del temp_gold[idx][el]\n",
    "\n",
    "\n",
    "        for idx, x in enumerate(final_data):\n",
    "            gold[idx] = defaultdict(list)\n",
    "            for el in x[\"alignment\"]:\n",
    "                if el[\"freq\"]==el[\"total\"] & el[\"total\"]>=3 and el[\"source_word_id\"] in temp_gold[idx] and\\\n",
    "                    el[\"target_word_id\"] in temp_gold[idx][el[\"source_word_id\"]]:\n",
    "                    gold[idx][el[\"source_word_id\"]].append(el[\"target_word_id\"])\n",
    "\n",
    "        with open(f\"{target_folder}/{lang_pair}/gold.txt\", \"w\") as f, open(f\"{target_folder}/{lang_pair}/{lang_pair}.txt\", \"w\") as fg:\n",
    "            idx = 0\n",
    "            for el in gold:\n",
    "                text = f\"{idx}\\t\"\n",
    "                found = False\n",
    "                for sw_id in gold[el]:\n",
    "                    for tw_id in gold[el][sw_id]:\n",
    "                        text+= f\"{sw_id}-{tw_id} \"\n",
    "                        found = True\n",
    "                if found:\n",
    "                    f.write(text+\"\\n\")\n",
    "                    fg.write(source_gold_sentences[el]+\" ||| \"+target_gold_sentences[el]+\"\\n\")\n",
    "                    idx+=1\n",
    "\n"
   ]
  },
  {
   "cell_type": "code",
   "execution_count": null,
   "metadata": {},
   "outputs": [],
   "source": []
  }
 ],
 "metadata": {
  "kernelspec": {
   "display_name": "Python 3",
   "language": "python",
   "name": "python3"
  },
  "language_info": {
   "codemirror_mode": {
    "name": "ipython",
    "version": 3
   },
   "file_extension": ".py",
   "mimetype": "text/x-python",
   "name": "python",
   "nbconvert_exporter": "python",
   "pygments_lexer": "ipython3",
   "version": "3.8.1"
  }
 },
 "nbformat": 4,
 "nbformat_minor": 5
}
